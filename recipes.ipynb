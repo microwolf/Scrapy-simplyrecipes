{
 "cells": [
  {
   "cell_type": "code",
   "execution_count": 1632,
   "metadata": {},
   "outputs": [],
   "source": [
    "# import packages \n",
    "import pandas as pd\n",
    "import numpy as np\n",
    "import matplotlib.pyplot as plt\n",
    "import re\n",
    "from nltk.corpus import stopwords\n",
    "from nltk.tokenize import word_tokenize\n",
    "import nltk\n",
    "from wordcloud import WordCloud\n",
    "from textblob import TextBlob\n",
    "from nltk.corpus import wordnet\n",
    "import datetime\n",
    "import time\n",
    "import seaborn as sns\n",
    "#nltk.download('punkt')\n",
    "#nltk.download('averaged_perceptron_tagger')\n",
    "#nltk.download('brown')"
   ]
  },
  {
   "cell_type": "code",
   "execution_count": 1651,
   "metadata": {},
   "outputs": [],
   "source": [
    "# set settings\n",
    "%matplotlib inline\n",
    "plt.style.use('ggplot')\n",
    "pd.set_option('display.max_rows', 100)\n",
    "2\n",
    "# Width of the display in characters. If set to None and pandas will correctly auto-detect the width.\n",
    "pd.set_option('display.max_colwidth', 150)"
   ]
  },
  {
   "cell_type": "code",
   "execution_count": 1696,
   "metadata": {},
   "outputs": [],
   "source": [
    "# read in csv files\n",
    "rc = pd.read_csv(\"simplyrecipes.csv\")\n",
    "ct = pd.read_csv(\"../category/simplycategory.csv\")"
   ]
  },
  {
   "cell_type": "code",
   "execution_count": 1726,
   "metadata": {},
   "outputs": [],
   "source": [
    "# ct file: clean up\n",
    "ct['type'] = ct.category.apply(lambda x: x.split('/')[1])\n",
    "ct_order = ['author', 'dish', 'type']\n",
    "ct = ct[ct_order]\n",
    "ct.type.fillna('Other', inplace=True)"
   ]
  },
  {
   "cell_type": "code",
   "execution_count": 1699,
   "metadata": {},
   "outputs": [],
   "source": [
    "# rc file: missing values\n",
    "# if dish is missing, discard data\n",
    "rc.dropna(subset=['dish'], inplace=True)\n",
    "# drop column with no ingredients\n",
    "rc.dropna(subset=['ingredients'], inplace=True)\n",
    "# if cook time missing, discard data\n",
    "#rc = rc[rc[['time_cook', 'time_prep']].notna().any(axis = 1)]\n",
    "rc.dropna(subset=['time_cook'], inplace=True)\n",
    "rc.dropna(subset=['time_prep'], inplace=True)\n",
    "# drop num_comment column, all NaN\n",
    "rc = rc.drop(columns = ['num_comment', 'time_other_type','time_other', 'time_other_full'])\n",
    "# drop no tag rows\n",
    "rc.dropna(subset = ['tags'], inplace = True)"
   ]
  },
  {
   "cell_type": "code",
   "execution_count": 1700,
   "metadata": {},
   "outputs": [],
   "source": [
    "# rc file: split cell content string to list\n",
    "lst1 = ['time_cook', 'time_prep', 'tags']\n",
    "rc[lst1] = rc[lst1].apply(lambda x: x.str.split(','))"
   ]
  },
  {
   "cell_type": "code",
   "execution_count": 1701,
   "metadata": {},
   "outputs": [],
   "source": [
    "# rc file: change rating star to numbers\n",
    "rc.rating_star.unique() # only 5 starts\n",
    "rc['rating_star'] = rc.rating_star.str.replace('yyyyy', '5')"
   ]
  },
  {
   "cell_type": "code",
   "execution_count": 1702,
   "metadata": {},
   "outputs": [],
   "source": [
    "# rc file: clean ingredients with regex\n",
    "# lower case all letters\n",
    "rc['inglst'] = rc.ingredients.str.lower()\n",
    "# get rid of number & punctuation \n",
    "rc['inglst'] = rc.inglst.apply(lambda x: re.sub('\\W', \" \", x))\n",
    "rc['inglst'] = rc.inglst.apply(lambda x: re.sub('\\d', \" \", x))"
   ]
  },
  {
   "cell_type": "code",
   "execution_count": 1703,
   "metadata": {},
   "outputs": [],
   "source": [
    "# rc file: remove common seasoning\n",
    "lst4 = [\"olive oil\", \"sea salt\", \"black pepper\"]\n",
    "rc['inglst'] = rc.inglst.apply(lambda x: re.sub(\"olive oil\", \"\", x))\n",
    "rc['inglst'] = rc.inglst.apply(lambda x: re.sub(\"sea salt\", \"\", x))\n",
    "rc['inglst'] = rc.inglst.apply(lambda x: re.sub(\"black pepper\", \"\", x))\n",
    "rc['inglst'] = rc.inglst.apply(lambda x: re.sub(\"soy sauce\", \"\", x))"
   ]
  },
  {
   "cell_type": "code",
   "execution_count": 1704,
   "metadata": {},
   "outputs": [],
   "source": [
    "# rc file: tokenize ingredients\n",
    "def safe_word_tokenize(x):\n",
    "    try:\n",
    "        return word_tokenize(x)\n",
    "    except:\n",
    "        return 'empty'\n",
    "#rc['inglst'] = rc.ingredients.apply(safe_word_tokenize)\n",
    "rc['inglst'] = rc.inglst.apply(word_tokenize)"
   ]
  },
  {
   "cell_type": "code",
   "execution_count": 1705,
   "metadata": {},
   "outputs": [
    {
     "data": {
      "text/plain": [
       "True"
      ]
     },
     "execution_count": 1705,
     "metadata": {},
     "output_type": "execute_result"
    }
   ],
   "source": [
    "# rc file: customize stop words list\n",
    "lst2 = ['pinch','approx','inch','inches','cups','cup','ml','tablespoons','tablespoon','tbsp', 'teaspoon','teaspoons','kg','g','grams','gram','lbs','lb','pound','pounds','ounce','ounces','oz']\n",
    "lst3 = ['extra','mignon','dinosaur','brown','center','head','paste','fresh','chopped','fat','dijon','part','package','use','plain','chef','cold','brand','section','combination','garnish','serve','servings','quart','serving','note','firm','room','temperature','tube','seasoning','length','lengths','quality','knife','kind','chunk','chunks','cubes','store','virgin','flakes','flake','slices','ground','piece','pieces','sprig','sprigs','medium','thick','cut','bunch','half', 'strips','kosher','stock','powder','taste','cube','handful','handfuls','cans','wedge','wedges','leaves']\n",
    "lst4 = ['salt','oil','water','sugar','vinegar','cream','dill','worcestershire','sauce','ketchup','mustard','seed','seeds','rosemary','sage','ghee','nutmeg','mirin','sodium','sesame','bay','leaf','cumin','oregano','mint','clove','cloves','parsley','cilantro','basil','scallion','thyme','garlic','butter','canola','ginger']\n",
    "stopIng = stopwords.words('english')\n",
    "stopIng.extend(lst2)\n",
    "stopIng.extend(lst3)\n",
    "stopIng.extend(lst4)\n",
    "#print(stopIng)\n",
    "'cans' in stopIng"
   ]
  },
  {
   "cell_type": "code",
   "execution_count": 1706,
   "metadata": {},
   "outputs": [],
   "source": [
    "# rc file: exlude stop words from inglst\n",
    "rc['inglst'] = rc.inglst.apply(lambda x: [el for el in x if el not in stopIng])"
   ]
  },
  {
   "cell_type": "code",
   "execution_count": 1707,
   "metadata": {},
   "outputs": [],
   "source": [
    "# rc file: only keep nouns in inglst\n",
    "rc['inglst'] = rc.inglst.apply(nltk.pos_tag)\n",
    "def only_noun(lst):\n",
    "    nouns = [word for (word, pos) in lst if pos[:2]==\"NN\"]\n",
    "    return nouns\n",
    "rc['inglst'] = rc.inglst.apply(only_noun)"
   ]
  },
  {
   "cell_type": "code",
   "execution_count": 1708,
   "metadata": {},
   "outputs": [],
   "source": [
    "# rc file: parse time\n",
    "def unify_time(lst):\n",
    "    time = dict()\n",
    "    for item in lst:\n",
    "        item = item.lstrip()\n",
    "        if 'hour' in item:\n",
    "            hour = int(re.sub('\\D', '', item))\n",
    "            time.update({'hour':hour})\n",
    "\n",
    "        if 'minute' in item:\n",
    "            minute = int(re.sub('\\D', '', item))\n",
    "            time.update({'minute':minute})\n",
    "\n",
    "    duration = time.get('hour', 0)*60 + time.get('minute', 0)\n",
    "    return duration\n",
    "rc['time_cook'] = rc.time_cook.apply(unify_time)\n",
    "rc['time_prep'] = rc.time_prep.apply(unify_time)"
   ]
  },
  {
   "cell_type": "code",
   "execution_count": 1709,
   "metadata": {},
   "outputs": [],
   "source": [
    "# rc file: column reorder\n",
    "rc_order = ['author', 'dish', 'inglst', 'time_prep', 'time_cook', 'tags', 'ingredients','servings', 'rating_star', 'rating_num', 'meta_description']\n",
    "rc = rc[rc_order]"
   ]
  },
  {
   "cell_type": "code",
   "execution_count": 1710,
   "metadata": {},
   "outputs": [],
   "source": [
    "# rc file: parse tag\n",
    "rc['tags'] = rc.tags.apply(lambda x: [el.lower() for el in x ])"
   ]
  },
  {
   "cell_type": "code",
   "execution_count": 1730,
   "metadata": {},
   "outputs": [],
   "source": [
    "# df file: merge rc-recipe & ct-category files\n",
    "df = pd.merge(ct, rc, on = ['author', 'dish'], how = 'right')\n",
    "#df.to_csv('simply_recipe_datasheet.csv', header = True)"
   ]
  },
  {
   "cell_type": "code",
   "execution_count": 1712,
   "metadata": {},
   "outputs": [],
   "source": [
    "# df: ingredient lists word cloud\n",
    "inglst_values = df.inglst.values\n",
    "inglst_values.tolist()\n",
    "alling = [item for sublist in inglst_values for item in sublist]\n",
    "\n",
    "# word cloud of inglst\n",
    "wc = WordCloud(background_color=\"black\", max_words=2000, width=800, height=400)\n",
    "#wc.generate(' '.join(rc['inglst'][0]))\n",
    "wc.generate(' '.join(alling))\n",
    "# show\n",
    "plt.figure(figsize=(12, 6))\n",
    "plt.imshow(wc, interpolation='bilinear')\n",
    "plt.axis(\"off\")\n",
    "#plt.show()\n",
    "plt.savefig('wc_ingredient',dpi = 400)\n",
    "#extra = []"
   ]
  },
  {
   "cell_type": "code",
   "execution_count": null,
   "metadata": {},
   "outputs": [],
   "source": [
    "# frequency of ingredients"
   ]
  },
  {
   "cell_type": "code",
   "execution_count": 1728,
   "metadata": {},
   "outputs": [
    {
     "data": {
      "text/plain": [
       "count    771.000000\n",
       "mean      49.495460\n",
       "std       63.570952\n",
       "min        5.000000\n",
       "25%       20.000000\n",
       "50%       30.000000\n",
       "75%       50.000000\n",
       "max      490.000000\n",
       "Name: time_cook, dtype: float64"
      ]
     },
     "execution_count": 1728,
     "metadata": {},
     "output_type": "execute_result"
    }
   ],
   "source": [
    "# df: cook time analysis\n",
    "df['time_cook'].describe()\n"
   ]
  },
  {
   "cell_type": "code",
   "execution_count": 1612,
   "metadata": {},
   "outputs": [
    {
     "data": {
      "text/plain": [
       "(array([354., 237.,  67.,  31.,  24.,  14.,   3.,   7.,  12.,  11.,   2.,\n",
       "          0.,   2.,   0.,   0.,   0.,   0.,   0.,   0.,   7.]),\n",
       " array([  5.  ,  29.25,  53.5 ,  77.75, 102.  , 126.25, 150.5 , 174.75,\n",
       "        199.  , 223.25, 247.5 , 271.75, 296.  , 320.25, 344.5 , 368.75,\n",
       "        393.  , 417.25, 441.5 , 465.75, 490.  ]),\n",
       " <a list of 20 Patch objects>)"
      ]
     },
     "execution_count": 1612,
     "metadata": {},
     "output_type": "execute_result"
    },
    {
     "data": {
      "image/png": "[encoded data removed]",
      "text/plain": [
       "<Figure size 432x288 with 1 Axes>"
      ]
     },
     "metadata": {},
     "output_type": "display_data"
    }
   ],
   "source": [
    "# plot prep time\n",
    "plt.hist(rc['time_cook'], bins = 20, color=\"blue\")"
   ]
  },
  {
   "cell_type": "code",
   "execution_count": 1610,
   "metadata": {},
   "outputs": [
    {
     "data": {
      "text/plain": [
       "(array([ 83., 262., 202., 103.,  27.,  55.,   4.,  10.,   0.,   0.,  13.,\n",
       "          3.,   2.,   0.,   0.,   2.,   0.,   0.,   0.,   5.]),\n",
       " array([  0.,   6.,  12.,  18.,  24.,  30.,  36.,  42.,  48.,  54.,  60.,\n",
       "         66.,  72.,  78.,  84.,  90.,  96., 102., 108., 114., 120.]),\n",
       " <a list of 20 Patch objects>)"
      ]
     },
     "execution_count": 1610,
     "metadata": {},
     "output_type": "execute_result"
    },
    {
     "data": {
      "image/png": "[encoded data removed]",
      "text/plain": [
       "<Figure size 432x288 with 1 Axes>"
      ]
     },
     "metadata": {},
     "output_type": "display_data"
    }
   ],
   "source": [
    "# plot cook time\n",
    "plt.hist(rc['time_prep'], bins=20, color=\"red\")"
   ]
  },
  {
   "cell_type": "code",
   "execution_count": 1629,
   "metadata": {},
   "outputs": [
    {
     "ename": "TypeError",
     "evalue": "no numeric data to plot",
     "output_type": "error",
     "traceback": [
      "\u001b[0;31m---------------------------------------------------------------------------\u001b[0m",
      "\u001b[0;31mTypeError\u001b[0m                                 Traceback (most recent call last)",
      "\u001b[0;32m<ipython-input-1629-cffc48a00c87>\u001b[0m in \u001b[0;36m<module>\u001b[0;34m\u001b[0m\n\u001b[0;32m----> 1\u001b[0;31m \u001b[0mrc\u001b[0m\u001b[0;34m[\u001b[0m\u001b[0;34m'author'\u001b[0m\u001b[0;34m]\u001b[0m\u001b[0;34m.\u001b[0m\u001b[0mplot\u001b[0m\u001b[0;34m.\u001b[0m\u001b[0mbar\u001b[0m\u001b[0;34m(\u001b[0m\u001b[0mcolor\u001b[0m\u001b[0;34m=\u001b[0m\u001b[0;34m'b'\u001b[0m\u001b[0;34m)\u001b[0m\u001b[0;34m\u001b[0m\u001b[0;34m\u001b[0m\u001b[0m\n\u001b[0m",
      "\u001b[0;32m/Library/Frameworks/Python.framework/Versions/3.8/lib/python3.8/site-packages/pandas/plotting/_core.py\u001b[0m in \u001b[0;36mbar\u001b[0;34m(self, x, y, **kwargs)\u001b[0m\n\u001b[1;32m   1001\u001b[0m             \u001b[0;34m>>\u001b[0m\u001b[0;34m>\u001b[0m \u001b[0max\u001b[0m \u001b[0;34m=\u001b[0m \u001b[0mdf\u001b[0m\u001b[0;34m.\u001b[0m\u001b[0mplot\u001b[0m\u001b[0;34m.\u001b[0m\u001b[0mbar\u001b[0m\u001b[0;34m(\u001b[0m\u001b[0mx\u001b[0m\u001b[0;34m=\u001b[0m\u001b[0;34m'lifespan'\u001b[0m\u001b[0;34m,\u001b[0m \u001b[0mrot\u001b[0m\u001b[0;34m=\u001b[0m\u001b[0;36m0\u001b[0m\u001b[0;34m)\u001b[0m\u001b[0;34m\u001b[0m\u001b[0;34m\u001b[0m\u001b[0m\n\u001b[1;32m   1002\u001b[0m         \"\"\"\n\u001b[0;32m-> 1003\u001b[0;31m         \u001b[0;32mreturn\u001b[0m \u001b[0mself\u001b[0m\u001b[0;34m(\u001b[0m\u001b[0mkind\u001b[0m\u001b[0;34m=\u001b[0m\u001b[0;34m\"bar\"\u001b[0m\u001b[0;34m,\u001b[0m \u001b[0mx\u001b[0m\u001b[0;34m=\u001b[0m\u001b[0mx\u001b[0m\u001b[0;34m,\u001b[0m \u001b[0my\u001b[0m\u001b[0;34m=\u001b[0m\u001b[0my\u001b[0m\u001b[0;34m,\u001b[0m \u001b[0;34m**\u001b[0m\u001b[0mkwargs\u001b[0m\u001b[0;34m)\u001b[0m\u001b[0;34m\u001b[0m\u001b[0;34m\u001b[0m\u001b[0m\n\u001b[0m\u001b[1;32m   1004\u001b[0m \u001b[0;34m\u001b[0m\u001b[0m\n\u001b[1;32m   1005\u001b[0m     \u001b[0;32mdef\u001b[0m \u001b[0mbarh\u001b[0m\u001b[0;34m(\u001b[0m\u001b[0mself\u001b[0m\u001b[0;34m,\u001b[0m \u001b[0mx\u001b[0m\u001b[0;34m=\u001b[0m\u001b[0;32mNone\u001b[0m\u001b[0;34m,\u001b[0m \u001b[0my\u001b[0m\u001b[0;34m=\u001b[0m\u001b[0;32mNone\u001b[0m\u001b[0;34m,\u001b[0m \u001b[0;34m**\u001b[0m\u001b[0mkwargs\u001b[0m\u001b[0;34m)\u001b[0m\u001b[0;34m:\u001b[0m\u001b[0;34m\u001b[0m\u001b[0;34m\u001b[0m\u001b[0m\n",
      "\u001b[0;32m/Library/Frameworks/Python.framework/Versions/3.8/lib/python3.8/site-packages/pandas/plotting/_core.py\u001b[0m in \u001b[0;36m__call__\u001b[0;34m(self, *args, **kwargs)\u001b[0m\n\u001b[1;32m    845\u001b[0m                     \u001b[0mdata\u001b[0m\u001b[0;34m.\u001b[0m\u001b[0mcolumns\u001b[0m \u001b[0;34m=\u001b[0m \u001b[0mlabel_name\u001b[0m\u001b[0;34m\u001b[0m\u001b[0;34m\u001b[0m\u001b[0m\n\u001b[1;32m    846\u001b[0m \u001b[0;34m\u001b[0m\u001b[0m\n\u001b[0;32m--> 847\u001b[0;31m         \u001b[0;32mreturn\u001b[0m \u001b[0mplot_backend\u001b[0m\u001b[0;34m.\u001b[0m\u001b[0mplot\u001b[0m\u001b[0;34m(\u001b[0m\u001b[0mdata\u001b[0m\u001b[0;34m,\u001b[0m \u001b[0mkind\u001b[0m\u001b[0;34m=\u001b[0m\u001b[0mkind\u001b[0m\u001b[0;34m,\u001b[0m \u001b[0;34m**\u001b[0m\u001b[0mkwargs\u001b[0m\u001b[0;34m)\u001b[0m\u001b[0;34m\u001b[0m\u001b[0;34m\u001b[0m\u001b[0m\n\u001b[0m\u001b[1;32m    848\u001b[0m \u001b[0;34m\u001b[0m\u001b[0m\n\u001b[1;32m    849\u001b[0m     \u001b[0m__call__\u001b[0m\u001b[0;34m.\u001b[0m\u001b[0m__doc__\u001b[0m \u001b[0;34m=\u001b[0m \u001b[0m__doc__\u001b[0m\u001b[0;34m\u001b[0m\u001b[0;34m\u001b[0m\u001b[0m\n",
      "\u001b[0;32m/Library/Frameworks/Python.framework/Versions/3.8/lib/python3.8/site-packages/pandas/plotting/_matplotlib/__init__.py\u001b[0m in \u001b[0;36mplot\u001b[0;34m(data, kind, **kwargs)\u001b[0m\n\u001b[1;32m     59\u001b[0m             \u001b[0mkwargs\u001b[0m\u001b[0;34m[\u001b[0m\u001b[0;34m\"ax\"\u001b[0m\u001b[0;34m]\u001b[0m \u001b[0;34m=\u001b[0m \u001b[0mgetattr\u001b[0m\u001b[0;34m(\u001b[0m\u001b[0max\u001b[0m\u001b[0;34m,\u001b[0m \u001b[0;34m\"left_ax\"\u001b[0m\u001b[0;34m,\u001b[0m \u001b[0max\u001b[0m\u001b[0;34m)\u001b[0m\u001b[0;34m\u001b[0m\u001b[0;34m\u001b[0m\u001b[0m\n\u001b[1;32m     60\u001b[0m     \u001b[0mplot_obj\u001b[0m \u001b[0;34m=\u001b[0m \u001b[0mPLOT_CLASSES\u001b[0m\u001b[0;34m[\u001b[0m\u001b[0mkind\u001b[0m\u001b[0;34m]\u001b[0m\u001b[0;34m(\u001b[0m\u001b[0mdata\u001b[0m\u001b[0;34m,\u001b[0m \u001b[0;34m**\u001b[0m\u001b[0mkwargs\u001b[0m\u001b[0;34m)\u001b[0m\u001b[0;34m\u001b[0m\u001b[0;34m\u001b[0m\u001b[0m\n\u001b[0;32m---> 61\u001b[0;31m     \u001b[0mplot_obj\u001b[0m\u001b[0;34m.\u001b[0m\u001b[0mgenerate\u001b[0m\u001b[0;34m(\u001b[0m\u001b[0;34m)\u001b[0m\u001b[0;34m\u001b[0m\u001b[0;34m\u001b[0m\u001b[0m\n\u001b[0m\u001b[1;32m     62\u001b[0m     \u001b[0mplot_obj\u001b[0m\u001b[0;34m.\u001b[0m\u001b[0mdraw\u001b[0m\u001b[0;34m(\u001b[0m\u001b[0;34m)\u001b[0m\u001b[0;34m\u001b[0m\u001b[0;34m\u001b[0m\u001b[0m\n\u001b[1;32m     63\u001b[0m     \u001b[0;32mreturn\u001b[0m \u001b[0mplot_obj\u001b[0m\u001b[0;34m.\u001b[0m\u001b[0mresult\u001b[0m\u001b[0;34m\u001b[0m\u001b[0;34m\u001b[0m\u001b[0m\n",
      "\u001b[0;32m/Library/Frameworks/Python.framework/Versions/3.8/lib/python3.8/site-packages/pandas/plotting/_matplotlib/core.py\u001b[0m in \u001b[0;36mgenerate\u001b[0;34m(self)\u001b[0m\n\u001b[1;32m    259\u001b[0m     \u001b[0;32mdef\u001b[0m \u001b[0mgenerate\u001b[0m\u001b[0;34m(\u001b[0m\u001b[0mself\u001b[0m\u001b[0;34m)\u001b[0m\u001b[0;34m:\u001b[0m\u001b[0;34m\u001b[0m\u001b[0;34m\u001b[0m\u001b[0m\n\u001b[1;32m    260\u001b[0m         \u001b[0mself\u001b[0m\u001b[0;34m.\u001b[0m\u001b[0m_args_adjust\u001b[0m\u001b[0;34m(\u001b[0m\u001b[0;34m)\u001b[0m\u001b[0;34m\u001b[0m\u001b[0;34m\u001b[0m\u001b[0m\n\u001b[0;32m--> 261\u001b[0;31m         \u001b[0mself\u001b[0m\u001b[0;34m.\u001b[0m\u001b[0m_compute_plot_data\u001b[0m\u001b[0;34m(\u001b[0m\u001b[0;34m)\u001b[0m\u001b[0;34m\u001b[0m\u001b[0;34m\u001b[0m\u001b[0m\n\u001b[0m\u001b[1;32m    262\u001b[0m         \u001b[0mself\u001b[0m\u001b[0;34m.\u001b[0m\u001b[0m_setup_subplots\u001b[0m\u001b[0;34m(\u001b[0m\u001b[0;34m)\u001b[0m\u001b[0;34m\u001b[0m\u001b[0;34m\u001b[0m\u001b[0m\n\u001b[1;32m    263\u001b[0m         \u001b[0mself\u001b[0m\u001b[0;34m.\u001b[0m\u001b[0m_make_plot\u001b[0m\u001b[0;34m(\u001b[0m\u001b[0;34m)\u001b[0m\u001b[0;34m\u001b[0m\u001b[0;34m\u001b[0m\u001b[0m\n",
      "\u001b[0;32m/Library/Frameworks/Python.framework/Versions/3.8/lib/python3.8/site-packages/pandas/plotting/_matplotlib/core.py\u001b[0m in \u001b[0;36m_compute_plot_data\u001b[0;34m(self)\u001b[0m\n\u001b[1;32m    408\u001b[0m         \u001b[0;31m# no non-numeric frames or series allowed\u001b[0m\u001b[0;34m\u001b[0m\u001b[0;34m\u001b[0m\u001b[0;34m\u001b[0m\u001b[0m\n\u001b[1;32m    409\u001b[0m         \u001b[0;32mif\u001b[0m \u001b[0mis_empty\u001b[0m\u001b[0;34m:\u001b[0m\u001b[0;34m\u001b[0m\u001b[0;34m\u001b[0m\u001b[0m\n\u001b[0;32m--> 410\u001b[0;31m             \u001b[0;32mraise\u001b[0m \u001b[0mTypeError\u001b[0m\u001b[0;34m(\u001b[0m\u001b[0;34m\"no numeric data to plot\"\u001b[0m\u001b[0;34m)\u001b[0m\u001b[0;34m\u001b[0m\u001b[0;34m\u001b[0m\u001b[0m\n\u001b[0m\u001b[1;32m    411\u001b[0m \u001b[0;34m\u001b[0m\u001b[0m\n\u001b[1;32m    412\u001b[0m         \u001b[0;31m# GH25587: cast ExtensionArray of pandas (IntegerArray, etc.) to\u001b[0m\u001b[0;34m\u001b[0m\u001b[0;34m\u001b[0m\u001b[0;34m\u001b[0m\u001b[0m\n",
      "\u001b[0;31mTypeError\u001b[0m: no numeric data to plot"
     ]
    }
   ],
   "source": [
    "rc['author'].plot.bar(color='b')"
   ]
  },
  {
   "cell_type": "code",
   "execution_count": null,
   "metadata": {},
   "outputs": [],
   "source": [
    "# correlation with time"
   ]
  },
  {
   "cell_type": "code",
   "execution_count": 1503,
   "metadata": {},
   "outputs": [],
   "source": [
    "# take the last 2 words of ing\n",
    "#rc['ing'] = rc.ingredients.apply(lambda x: re.sub('\\(.*\\)', '', x))\n",
    "#rc.ing\n",
    "#rc.ing.apply(lambda x: [el for el in x.split() if el not in stopIng])"
   ]
  },
  {
   "cell_type": "code",
   "execution_count": 1018,
   "metadata": {},
   "outputs": [],
   "source": [
    "# food = wordnet.synset('food.n.02')\n",
    "# for i in food.closure(lambda s:s.hyponyms()):\n",
    "#     print(i)"
   ]
  },
  {
   "cell_type": "code",
   "execution_count": 551,
   "metadata": {},
   "outputs": [],
   "source": [
    "# test why wordtokenize did not work on column ingredients\n",
    "# def safe_word_tokenize( x ):\n",
    "#     try:\n",
    "#         return word_tokenize( x )\n",
    "#     except Exception as e:\n",
    "#         print( f\"Error with {x}. Exception given: {e}\" )\n",
    "#         print( \"-\"*25 + \"\\n\" )\n",
    "# rc.ingredients.apply(safe_word_tokenize)"
   ]
  },
  {
   "cell_type": "code",
   "execution_count": 352,
   "metadata": {},
   "outputs": [],
   "source": [
    "# extract time\n",
    "#rc['time_cook'].apply(lambda x: x.split(','))\n",
    "# rc['time_cook'] = rc['time_cook'].str.split(',')\n",
    "# rc['time_prep'] = rc['time_prep'].str.split(',')\n",
    "# rc['ingredients'] = rc.ingredients.str.split(',')\n",
    "# rc['tags'] = rc.tags.str.split(',')\n",
    "#rc.rating_star.str.replace('yyyyy', 5)\n",
    "#rc.rating_star.str.replace('yyyyy', '5')"
   ]
  },
  {
   "cell_type": "code",
   "execution_count": 1259,
   "metadata": {},
   "outputs": [],
   "source": [
    "# old wrong codes\n",
    "#rc['inglst'].apply(lambda x: x if x not in stopIng else '')\n",
    "#rc.inglist.apply(lambda x: re.sub(lambda y: y, lst4), \"\", x)"
   ]
  },
  {
   "cell_type": "code",
   "execution_count": null,
   "metadata": {},
   "outputs": [],
   "source": [
    "# need work code\n",
    "# def remove_season(lst,x):\n",
    "#     for item in lst:\n",
    "#         re.sub(item, \"\", x)\n",
    "# rc.inglst.apply(remove_season, lst4)\n",
    "# blob = TextBlob(\" \".join(rc.inglst.iloc[1]))\n",
    "# print(blob.noun_phrases)"
   ]
  },
  {
   "cell_type": "code",
   "execution_count": null,
   "metadata": {},
   "outputs": [],
   "source": [
    "#df = pd.read_csv('https://s3.amazonaws.com/nycdsabt01/movie_metadata.csv')"
   ]
  },
  {
   "cell_type": "code",
   "execution_count": null,
   "metadata": {},
   "outputs": [],
   "source": [
    "# IDEAS\n",
    "#rc.ingredients.sample(5)\n",
    "# only take the last two words of each , separated words in ingredients\n",
    "#rc.sample(5)"
   ]
  },
  {
   "cell_type": "code",
   "execution_count": null,
   "metadata": {},
   "outputs": [],
   "source": [
    "# reference code\n",
    "#rc.inglst.apply( lambda x: [el for el in x if (el not in stopIng)] )\n",
    "\n",
    "# lines = 'lines is some string of words'\n",
    "# tokenized = nltk.word_tokenize(lines)\n",
    "# nouns = [word for (word, pos) in nltk.pos_tag(tokenized) if(pos[:2] == 'NN')]\n",
    "# nouns = [(word, pos) for (word, pos) in nltk.pos_tag(tokenized)]\n",
    "# nltk.pos_tag(tokenized)"
   ]
  },
  {
   "cell_type": "code",
   "execution_count": null,
   "metadata": {},
   "outputs": [],
   "source": [
    "# parse tags\n",
    "# test = rc.tags.apply(lambda x: [el for el in x if el == 'beef'])\n",
    "# def sort_tag(lst):\n",
    "#     for tag in lst:\n",
    "#         switch(tag:\n",
    "#                beef = 'beef', chicken = 'chicken', vege = 'vegetarian', seafood = 'fish and seafood', pork = pork)\n",
    "#     return main\n",
    "# rc.tags.apply(sort_tag)\n",
    "#rc.inglst.apply( lambda x: [el for el in x if (el not in stopIng)] )"
   ]
  }
 ],
 "metadata": {
  "kernelspec": {
   "display_name": "Python 3",
   "language": "python",
   "name": "python3"
  },
  "language_info": {
   "codemirror_mode": {
    "name": "ipython",
    "version": 3
   },
   "file_extension": ".py",
   "mimetype": "text/x-python",
   "name": "python",
   "nbconvert_exporter": "python",
   "pygments_lexer": "ipython3",
   "version": "3.8.1"
  }
 },
 "nbformat": 4,
 "nbformat_minor": 2
}

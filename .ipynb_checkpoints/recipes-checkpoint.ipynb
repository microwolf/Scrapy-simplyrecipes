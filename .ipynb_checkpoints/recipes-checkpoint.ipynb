{
 "cells": [
  {
   "cell_type": "code",
   "execution_count": 1042,
   "metadata": {},
   "outputs": [],
   "source": [
    "# import packages \n",
    "import pandas as pd\n",
    "import numpy as np\n",
    "from matplotlib import pyplot as plt\n",
    "import re\n",
    "from nltk.corpus import stopwords\n",
    "from nltk.tokenize import word_tokenize\n",
    "import nltk\n",
    "from wordcloud import WordCloud\n",
    "from textblob import TextBlob\n",
    "from nltk.corpus import wordnet\n",
    "#nltk.download('punkt')\n",
    "#nltk.download('averaged_perceptron_tagger')\n",
    "#nltk.download('brown')"
   ]
  },
  {
   "cell_type": "code",
   "execution_count": 918,
   "metadata": {},
   "outputs": [],
   "source": [
    "# set settings\n",
    "%matplotlib inline\n",
    "plt.style.use('ggplot')\n",
    "pd.set_option('display.max_rows', 100)\n",
    "2\n",
    "# Width of the display in characters. If set to None and pandas will correctly auto-detect the width.\n",
    "pd.set_option('display.max_colwidth', 150)"
   ]
  },
  {
   "cell_type": "code",
   "execution_count": 888,
   "metadata": {},
   "outputs": [],
   "source": [
    "#df = pd.read_csv('https://s3.amazonaws.com/nycdsabt01/movie_metadata.csv')"
   ]
  },
  {
   "cell_type": "code",
   "execution_count": 889,
   "metadata": {},
   "outputs": [],
   "source": [
    "rc = pd.read_csv(\"simplyrecipes.csv\")"
   ]
  },
  {
   "cell_type": "code",
   "execution_count": 890,
   "metadata": {},
   "outputs": [],
   "source": [
    "# missing values\n",
    "# if dish is missing, discard data\n",
    "rc.dropna(subset=['dish'], inplace=True)\n",
    "# drop column with no ingredients\n",
    "rc.dropna(subset=['ingredients'], inplace=True)\n",
    "# if cook time missing, discard data\n",
    "rc = rc[rc[['time_cook', 'time_prep']].notna().any(axis = 1)]\n",
    "# drop num_comment column, all NaN\n",
    "rc = rc.drop(columns = ['num_comment'])"
   ]
  },
  {
   "cell_type": "code",
   "execution_count": 891,
   "metadata": {},
   "outputs": [],
   "source": [
    "# split cell content string to list\n",
    "lst1 = ['time_cook', 'time_prep', 'tags']\n",
    "rc[lst1] = rc[lst1].apply(lambda x: x.str.split(','))"
   ]
  },
  {
   "cell_type": "code",
   "execution_count": 892,
   "metadata": {},
   "outputs": [],
   "source": [
    "# change rating star to numbers\n",
    "rc.rating_star.unique() # only 5 starts\n",
    "rc['rating_star'] = rc.rating_star.str.replace('yyyyy', '5')"
   ]
  },
  {
   "cell_type": "code",
   "execution_count": 1065,
   "metadata": {},
   "outputs": [],
   "source": [
    "# clean ingredients with regex\n",
    "# lower case all letters\n",
    "rc['inglst'] = rc.ingredients.str.lower()\n",
    "# get rid of number & punctuation \n",
    "rc['inglst'] = rc.inglst.apply(lambda x: re.sub('\\W', \" \", x))\n",
    "rc['inglst'] = rc.inglst.apply(lambda x: re.sub('\\d', \" \", x))"
   ]
  },
  {
   "cell_type": "code",
   "execution_count": 1066,
   "metadata": {},
   "outputs": [],
   "source": [
    "# remove common seasoning\n",
    "lst4 = [\"olive oil\", \"sea salt\", \"black pepper\"]\n",
    "rc['inglst'] = rc.inglst.apply(lambda x: re.sub(\"olive oil\", \"\", x))\n",
    "rc['inglst'] = rc.inglst.apply(lambda x: re.sub(\"sea salt\", \"\", x))\n",
    "rc['inglst'] = rc.inglst.apply(lambda x: re.sub(\"black pepper\", \"\", x))\n",
    "#rc.inglist.apply(lambda x: re.sub(lambda y: y, lst4), \"\", x)\n",
    "# def remove_season(lst,x):\n",
    "#     for item in lst:\n",
    "#         re.sub(item, \"\", x)\n",
    "# rc.inglst.apply(remove_season, lst4)"
   ]
  },
  {
   "cell_type": "code",
   "execution_count": 1067,
   "metadata": {},
   "outputs": [],
   "source": [
    "# tokenize ingredients\n",
    "def safe_word_tokenize(x):\n",
    "    try:\n",
    "        return word_tokenize(x)\n",
    "    except:\n",
    "        return 'empty'\n",
    "#rc['inglst'] = rc.ingredients.apply(safe_word_tokenize)\n",
    "rc['inglst'] = rc.inglst.apply(word_tokenize)"
   ]
  },
  {
   "cell_type": "code",
   "execution_count": 1068,
   "metadata": {},
   "outputs": [],
   "source": [
    "# customize stop words list\n",
    "lst2 = ['pinch','approx','inch','inches','cups','cup','ml','tablespoons','tablespoon','tbsp', 'teaspoon','kg','g','grams','gram','lbs','lb','pound','pounds','ounce','ounces','oz']\n",
    "lst3 = ['salt', 'oil']\n",
    "stopIng = stopwords.words('english')\n",
    "stopIng.extend(lst2)\n",
    "stopIng.extend(lst3)\n",
    "#print(stopIng)"
   ]
  },
  {
   "cell_type": "code",
   "execution_count": 1069,
   "metadata": {},
   "outputs": [],
   "source": [
    "# exlude stop words from inglst\n",
    "rc['inglst'] = rc.inglst.apply(lambda x: [el for el in x if el not in stopIng])"
   ]
  },
  {
   "cell_type": "code",
   "execution_count": 1048,
   "metadata": {},
   "outputs": [
    {
     "name": "stdout",
     "output_type": "stream",
     "text": [
      "['extra virgin olive bunch lacinato kale dinosaur tuscan kale center ribs', 'black pepper cremini mushrooms', 'small yellow onion', 'loaf ciabatta bread', 'thick slices', 'large eggs ml milk', 'cheddar cheese']\n"
     ]
    }
   ],
   "source": [
    "# blob = TextBlob(\" \".join(rc.inglst.iloc[1]))\n",
    "# print(blob.noun_phrases)"
   ]
  },
  {
   "cell_type": "code",
   "execution_count": 1070,
   "metadata": {},
   "outputs": [],
   "source": [
    "# only keep nouns in inglst\n",
    "rc['inglst'] = rc.inglst.apply(nltk.pos_tag)\n",
    "def only_noun(lst):\n",
    "    nouns = [word for (word, pos) in lst if pos[:2]==\"NN\"]\n",
    "    return nouns\n",
    "rc['inglst'] = rc.inglst.apply(only_noun)"
   ]
  },
  {
   "cell_type": "code",
   "execution_count": 1075,
   "metadata": {},
   "outputs": [],
   "source": [
    "#rc.ingredients.sample(5)\n",
    "# only take the last two words of each , separated words in ingredients\n",
    "#rc.sample(5)"
   ]
  },
  {
   "cell_type": "code",
   "execution_count": null,
   "metadata": {},
   "outputs": [],
   "source": [
    "# parse time"
   ]
  },
  {
   "cell_type": "code",
   "execution_count": null,
   "metadata": {},
   "outputs": [],
   "source": [
    "# parse tag"
   ]
  },
  {
   "cell_type": "code",
   "execution_count": 1018,
   "metadata": {},
   "outputs": [],
   "source": [
    "# food = wordnet.synset('food.n.02')\n",
    "# for i in food.closure(lambda s:s.hyponyms()):\n",
    "#     print(i)"
   ]
  },
  {
   "cell_type": "code",
   "execution_count": 1073,
   "metadata": {},
   "outputs": [],
   "source": [
    "# lines = 'lines is some string of words'\n",
    "# tokenized = nltk.word_tokenize(lines)\n",
    "# nouns = [word for (word, pos) in nltk.pos_tag(tokenized) if(pos[:2] == 'NN')]\n",
    "# nouns = [(word, pos) for (word, pos) in nltk.pos_tag(tokenized)]\n",
    "# nltk.pos_tag(tokenized)"
   ]
  },
  {
   "cell_type": "code",
   "execution_count": 813,
   "metadata": {},
   "outputs": [
    {
     "data": {
      "text/plain": [
       "0      [cauliflower, florets, teaspoon, sea, salt, olive, oil, divided, g, g, parmesan, cheese, omit, vegan, version, fresh...\n",
       "2      [extra, virgin, olive, oil, bunch, g, lacinato, kale, dinosaur, tuscan, kale, center, ribs, removed, leaves, thinly,...\n",
       "3      [butter, baking, dish, water, polenta, butter, cut, little, cubes, teaspoon, salt, cheese, italian, blend, oil, gril...\n",
       "5      [cauliflower, chopped, bite, size, pieces, teaspoons, neutral, oil, sea, salt, inch, corn, tortillas, warmed, teaspo...\n",
       "6      [extra, virgin, olive, oil, skinless, chicken, breast, cut, inch, cubes, salt, yellow, onion, roughly, chopped, heap...\n",
       "                                                                ...                                                           \n",
       "930    [boneless, skinless, chicken, breast, halves, total, chicken, cutlets, flour, teaspoon, salt, ground, black, pepper,...\n",
       "931    [beef, shoulder, boneless, chuck, roast, look, piece, well, marbled, fat, best, results, extra, virgin, olive, oil, ...\n",
       "932    [melted, unsalted, butter, plain, panko, breadcrumbs, shredded, parmesan, teaspoon, salt, teaspoon, smoked, paprika,...\n",
       "933    [turkey, juice, lemon, salt, pepper, extra, virgin, olive, oil, softened, melted, butter, yellow, onion, peeled, qua...\n",
       "934    [olive, oil, divided, breadcrumbs, coarsely, chopped, toasted, almonds, teaspoon, salt, divided, medium, shaped, pas...\n",
       "Name: inglst, Length: 803, dtype: object"
      ]
     },
     "execution_count": 813,
     "metadata": {},
     "output_type": "execute_result"
    }
   ],
   "source": [
    "#rc.inglst.apply( lambda x: [el for el in x if (el not in stopIng)] )"
   ]
  },
  {
   "cell_type": "code",
   "execution_count": 551,
   "metadata": {},
   "outputs": [],
   "source": [
    "# test why wordtokenize did not work on column ingredients\n",
    "# def safe_word_tokenize( x ):\n",
    "#     try:\n",
    "#         return word_tokenize( x )\n",
    "#     except Exception as e:\n",
    "#         print( f\"Error with {x}. Exception given: {e}\" )\n",
    "#         print( \"-\"*25 + \"\\n\" )\n",
    "# rc.ingredients.apply(safe_word_tokenize)"
   ]
  },
  {
   "cell_type": "code",
   "execution_count": 464,
   "metadata": {},
   "outputs": [],
   "source": [
    "#rc.sample(4)\n",
    "#rc.num_comment.unique()\n",
    "#rc.loc[861,'time_cook']"
   ]
  },
  {
   "cell_type": "code",
   "execution_count": 351,
   "metadata": {},
   "outputs": [
    {
     "name": "stdout",
     "output_type": "stream",
     "text": [
      "(935, 13)\n"
     ]
    },
    {
     "data": {
      "text/html": [
       "<div>\n",
       "<style scoped>\n",
       "    .dataframe tbody tr th:only-of-type {\n",
       "        vertical-align: middle;\n",
       "    }\n",
       "\n",
       "    .dataframe tbody tr th {\n",
       "        vertical-align: top;\n",
       "    }\n",
       "\n",
       "    .dataframe thead th {\n",
       "        text-align: right;\n",
       "    }\n",
       "</style>\n",
       "<table border=\"1\" class=\"dataframe\">\n",
       "  <thead>\n",
       "    <tr style=\"text-align: right;\">\n",
       "      <th></th>\n",
       "      <th>time_cook</th>\n",
       "      <th>time_prep</th>\n",
       "      <th>time_other_full</th>\n",
       "    </tr>\n",
       "  </thead>\n",
       "  <tbody>\n",
       "    <tr>\n",
       "      <th>464</th>\n",
       "      <td>NaN</td>\n",
       "      <td>NaN</td>\n",
       "      <td>NaN</td>\n",
       "    </tr>\n",
       "    <tr>\n",
       "      <th>514</th>\n",
       "      <td>NaN</td>\n",
       "      <td>NaN</td>\n",
       "      <td>NaN</td>\n",
       "    </tr>\n",
       "    <tr>\n",
       "      <th>550</th>\n",
       "      <td>NaN</td>\n",
       "      <td>NaN</td>\n",
       "      <td>NaN</td>\n",
       "    </tr>\n",
       "  </tbody>\n",
       "</table>\n",
       "</div>"
      ],
      "text/plain": [
       "    time_cook time_prep time_other_full\n",
       "464       NaN       NaN             NaN\n",
       "514       NaN       NaN             NaN\n",
       "550       NaN       NaN             NaN"
      ]
     },
     "execution_count": 351,
     "metadata": {},
     "output_type": "execute_result"
    }
   ],
   "source": [
    "#recipes.head()\n",
    "print(rc.shape)\n",
    "rc.sample(3)[['time_cook', 'time_prep', 'time_other_full']]\n",
    "#rc.columns"
   ]
  },
  {
   "cell_type": "code",
   "execution_count": 352,
   "metadata": {},
   "outputs": [],
   "source": [
    "# extract time\n",
    "#rc['time_cook'].apply(lambda x: x.split(','))\n",
    "# rc['time_cook'] = rc['time_cook'].str.split(',')\n",
    "# rc['time_prep'] = rc['time_prep'].str.split(',')\n",
    "# rc['ingredients'] = rc.ingredients.str.split(',')\n",
    "# rc['tags'] = rc.tags.str.split(',')\n",
    "#rc.rating_star.str.replace('yyyyy', 5)\n",
    "#rc.rating_star.str.replace('yyyyy', '5')"
   ]
  },
  {
   "cell_type": "code",
   "execution_count": 530,
   "metadata": {},
   "outputs": [
    {
     "data": {
      "text/plain": [
       "(814, 14)"
      ]
     },
     "execution_count": 530,
     "metadata": {},
     "output_type": "execute_result"
    }
   ],
   "source": [
    "# tests\n",
    "#pd.isnull(rc['dish'])\n",
    "#pd.isnull(rc['dish']).sum()\n",
    "\n",
    "# a = rc.loc[925]['time_prep']\n",
    "# b = rc.loc[82]['time_cook']\n",
    "# a.split(',')\n",
    "# rc['time_other_full'].sample(10)\n",
    "\n",
    "#rc['time_cook'].sample(10)\n",
    "#print(pd.isnull(rc[['time_cook', 'time_prep']]).sum())\n",
    "#pd.isnull(rc['time_cook'] and rc['time_prep']).any()\n",
    "rc[['time_cook', 'time_prep']].isna().any(axis = 1).sum()\n",
    "#rc.shape\n",
    "rc[rc[['time_cook', 'time_prep']].notna().any(axis = 1)].shape\n"
   ]
  },
  {
   "cell_type": "code",
   "execution_count": 57,
   "metadata": {},
   "outputs": [
    {
     "data": {
      "text/plain": [
       "Int64Index([  0,   2,   3,   4,   5,   6,   7,   8,   9,  10,\n",
       "            ...\n",
       "            925, 926, 927, 928, 929, 930, 931, 932, 933, 934],\n",
       "           dtype='int64', length=857)"
      ]
     },
     "execution_count": 57,
     "metadata": {},
     "output_type": "execute_result"
    }
   ],
   "source": [
    "# old wrong codes\n",
    "#rc['inglst'].apply(lambda x: x if x not in stopIng else '')"
   ]
  }
 ],
 "metadata": {
  "kernelspec": {
   "display_name": "Python 3",
   "language": "python",
   "name": "python3"
  },
  "language_info": {
   "codemirror_mode": {
    "name": "ipython",
    "version": 3
   },
   "file_extension": ".py",
   "mimetype": "text/x-python",
   "name": "python",
   "nbconvert_exporter": "python",
   "pygments_lexer": "ipython3",
   "version": "3.8.1"
  }
 },
 "nbformat": 4,
 "nbformat_minor": 2
}

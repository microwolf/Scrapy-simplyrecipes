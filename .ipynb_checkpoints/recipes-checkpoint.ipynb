{
 "cells": [
  {
   "cell_type": "code",
   "execution_count": 1938,
   "metadata": {},
   "outputs": [],
   "source": [
    "# import packages \n",
    "import pandas as pd\n",
    "import numpy as np\n",
    "import matplotlib.pyplot as plt\n",
    "import re\n",
    "from nltk.corpus import stopwords\n",
    "from nltk.tokenize import word_tokenize\n",
    "import nltk\n",
    "from wordcloud import WordCloud\n",
    "from textblob import TextBlob\n",
    "from nltk.corpus import wordnet\n",
    "import datetime\n",
    "import time\n",
    "import seaborn as sns\n",
    "import statsmodels.api as sm\n",
    "from statsmodels.formula.api import ols\n",
    "from pandas.plotting import table \n",
    "import plotly.express as px\n",
    "#nltk.download('punkt')\n",
    "#nltk.download('averaged_perceptron_tagger')\n",
    "#nltk.download('brown')"
   ]
  },
  {
   "cell_type": "code",
   "execution_count": 1651,
   "metadata": {},
   "outputs": [],
   "source": [
    "# set settings\n",
    "%matplotlib inline\n",
    "plt.style.use('ggplot')\n",
    "pd.set_option('display.max_rows', 100)\n",
    "2\n",
    "# Width of the display in characters. If set to None and pandas will correctly auto-detect the width.\n",
    "pd.set_option('display.max_colwidth', 150)"
   ]
  },
  {
   "cell_type": "code",
   "execution_count": 1696,
   "metadata": {},
   "outputs": [],
   "source": [
    "# read in csv files\n",
    "rc = pd.read_csv(\"simplyrecipes.csv\")\n",
    "ct = pd.read_csv(\"../category/simplycategory.csv\")"
   ]
  },
  {
   "cell_type": "code",
   "execution_count": 1726,
   "metadata": {},
   "outputs": [],
   "source": [
    "# ct file: clean up\n",
    "ct['type'] = ct.category.apply(lambda x: x.split('/')[1])\n",
    "ct_order = ['author', 'dish', 'type']\n",
    "ct = ct[ct_order]\n",
    "ct.type.fillna('Other', inplace=True)"
   ]
  },
  {
   "cell_type": "code",
   "execution_count": 1699,
   "metadata": {},
   "outputs": [],
   "source": [
    "# rc file: missing values\n",
    "# if dish is missing, discard data\n",
    "rc.dropna(subset=['dish'], inplace=True)\n",
    "# drop column with no ingredients\n",
    "rc.dropna(subset=['ingredients'], inplace=True)\n",
    "# if cook time missing, discard data\n",
    "#rc = rc[rc[['time_cook', 'time_prep']].notna().any(axis = 1)]\n",
    "rc.dropna(subset=['time_cook'], inplace=True)\n",
    "rc.dropna(subset=['time_prep'], inplace=True)\n",
    "# drop num_comment column, all NaN\n",
    "rc = rc.drop(columns = ['num_comment', 'time_other_type','time_other', 'time_other_full'])\n",
    "# drop no tag rows\n",
    "rc.dropna(subset = ['tags'], inplace = True)"
   ]
  },
  {
   "cell_type": "code",
   "execution_count": 1700,
   "metadata": {},
   "outputs": [],
   "source": [
    "# rc file: split cell content string to list\n",
    "lst1 = ['time_cook', 'time_prep', 'tags']\n",
    "rc[lst1] = rc[lst1].apply(lambda x: x.str.split(','))"
   ]
  },
  {
   "cell_type": "code",
   "execution_count": 1701,
   "metadata": {},
   "outputs": [],
   "source": [
    "# rc file: change rating star to numbers\n",
    "rc.rating_star.unique() # only 5 starts\n",
    "rc['rating_star'] = rc.rating_star.str.replace('yyyyy', '5')"
   ]
  },
  {
   "cell_type": "code",
   "execution_count": 1702,
   "metadata": {},
   "outputs": [],
   "source": [
    "# rc file: clean ingredients with regex\n",
    "# lower case all letters\n",
    "rc['inglst'] = rc.ingredients.str.lower()\n",
    "# get rid of number & punctuation \n",
    "rc['inglst'] = rc.inglst.apply(lambda x: re.sub('\\W', \" \", x))\n",
    "rc['inglst'] = rc.inglst.apply(lambda x: re.sub('\\d', \" \", x))"
   ]
  },
  {
   "cell_type": "code",
   "execution_count": 1703,
   "metadata": {},
   "outputs": [],
   "source": [
    "# rc file: remove common seasoning\n",
    "lst4 = [\"olive oil\", \"sea salt\", \"black pepper\"]\n",
    "rc['inglst'] = rc.inglst.apply(lambda x: re.sub(\"olive oil\", \"\", x))\n",
    "rc['inglst'] = rc.inglst.apply(lambda x: re.sub(\"sea salt\", \"\", x))\n",
    "rc['inglst'] = rc.inglst.apply(lambda x: re.sub(\"black pepper\", \"\", x))\n",
    "rc['inglst'] = rc.inglst.apply(lambda x: re.sub(\"soy sauce\", \"\", x))"
   ]
  },
  {
   "cell_type": "code",
   "execution_count": 1704,
   "metadata": {},
   "outputs": [],
   "source": [
    "# rc file: tokenize ingredients\n",
    "def safe_word_tokenize(x):\n",
    "    try:\n",
    "        return word_tokenize(x)\n",
    "    except:\n",
    "        return 'empty'\n",
    "#rc['inglst'] = rc.ingredients.apply(safe_word_tokenize)\n",
    "rc['inglst'] = rc.inglst.apply(word_tokenize)"
   ]
  },
  {
   "cell_type": "code",
   "execution_count": 1705,
   "metadata": {},
   "outputs": [
    {
     "data": {
      "text/plain": [
       "True"
      ]
     },
     "execution_count": 1705,
     "metadata": {},
     "output_type": "execute_result"
    }
   ],
   "source": [
    "# rc file: customize stop words list\n",
    "lst2 = ['pinch','approx','inch','inches','cups','cup','ml','tablespoons','tablespoon','tbsp', 'teaspoon','teaspoons','kg','g','grams','gram','lbs','lb','pound','pounds','ounce','ounces','oz']\n",
    "lst3 = ['extra','mignon','dinosaur','brown','center','head','paste','fresh','chopped','fat','dijon','part','package','use','plain','chef','cold','brand','section','combination','garnish','serve','servings','quart','serving','note','firm','room','temperature','tube','seasoning','length','lengths','quality','knife','kind','chunk','chunks','cubes','store','virgin','flakes','flake','slices','ground','piece','pieces','sprig','sprigs','medium','thick','cut','bunch','half', 'strips','kosher','stock','powder','taste','cube','handful','handfuls','cans','wedge','wedges','leaves']\n",
    "lst4 = ['salt','oil','water','sugar','vinegar','cream','dill','worcestershire','sauce','ketchup','mustard','seed','seeds','rosemary','sage','ghee','nutmeg','mirin','sodium','sesame','bay','leaf','cumin','oregano','mint','clove','cloves','parsley','cilantro','basil','scallion','thyme','garlic','butter','canola','ginger']\n",
    "stopIng = stopwords.words('english')\n",
    "stopIng.extend(lst2)\n",
    "stopIng.extend(lst3)\n",
    "stopIng.extend(lst4)\n",
    "#print(stopIng)\n",
    "'cans' in stopIng"
   ]
  },
  {
   "cell_type": "code",
   "execution_count": 1706,
   "metadata": {},
   "outputs": [],
   "source": [
    "# rc file: exlude stop words from inglst\n",
    "rc['inglst'] = rc.inglst.apply(lambda x: [el for el in x if el not in stopIng])"
   ]
  },
  {
   "cell_type": "code",
   "execution_count": 1707,
   "metadata": {},
   "outputs": [],
   "source": [
    "# rc file: only keep nouns in inglst\n",
    "rc['inglst'] = rc.inglst.apply(nltk.pos_tag)\n",
    "def only_noun(lst):\n",
    "    nouns = [word for (word, pos) in lst if pos[:2]==\"NN\"]\n",
    "    return nouns\n",
    "rc['inglst'] = rc.inglst.apply(only_noun)"
   ]
  },
  {
   "cell_type": "code",
   "execution_count": 1708,
   "metadata": {},
   "outputs": [],
   "source": [
    "# rc file: parse time\n",
    "def unify_time(lst):\n",
    "    time = dict()\n",
    "    for item in lst:\n",
    "        item = item.lstrip()\n",
    "        if 'hour' in item:\n",
    "            hour = int(re.sub('\\D', '', item))\n",
    "            time.update({'hour':hour})\n",
    "\n",
    "        if 'minute' in item:\n",
    "            minute = int(re.sub('\\D', '', item))\n",
    "            time.update({'minute':minute})\n",
    "\n",
    "    duration = time.get('hour', 0)*60 + time.get('minute', 0)\n",
    "    return duration\n",
    "rc['time_cook'] = rc.time_cook.apply(unify_time)\n",
    "rc['time_prep'] = rc.time_prep.apply(unify_time)"
   ]
  },
  {
   "cell_type": "code",
   "execution_count": 1709,
   "metadata": {},
   "outputs": [],
   "source": [
    "# rc file: column reorder\n",
    "rc_order = ['author', 'dish', 'inglst', 'time_prep', 'time_cook', 'tags', 'ingredients','servings', 'rating_star', 'rating_num', 'meta_description']\n",
    "rc = rc[rc_order]"
   ]
  },
  {
   "cell_type": "code",
   "execution_count": 1710,
   "metadata": {},
   "outputs": [],
   "source": [
    "# rc file: parse tag\n",
    "rc['tags'] = rc.tags.apply(lambda x: [el.lower() for el in x ])"
   ]
  },
  {
   "cell_type": "code",
   "execution_count": 1818,
   "metadata": {},
   "outputs": [],
   "source": [
    "# df file: merge rc-recipe & ct-category files\n",
    "df = pd.merge(ct, rc, on = ['author', 'dish'], how = 'right')\n",
    "#df.to_csv('simply_recipe_datasheet.csv', header = True)\n",
    "# melt cook & prep time into 1 column\n",
    "df_time = pd.melt(df, id_vars=['dish', 'type'], value_vars=['time_cook', 'time_prep']).sort_values('dish',ascending=False)\n",
    "df_time.rename(columns={'value': 'time_minute', 'variable': 'step'}, inplace=True)"
   ]
  },
  {
   "cell_type": "code",
   "execution_count": 1712,
   "metadata": {},
   "outputs": [],
   "source": [
    "# df: ingredient lists word cloud\n",
    "inglst_values = df.inglst.values\n",
    "inglst_values.tolist()\n",
    "alling = [item for sublist in inglst_values for item in sublist]\n",
    "\n",
    "# word cloud of inglst\n",
    "wc = WordCloud(background_color=\"black\", max_words=2000, width=800, height=400)\n",
    "#wc.generate(' '.join(rc['inglst'][0]))\n",
    "wc.generate(' '.join(alling))\n",
    "# show\n",
    "plt.figure(figsize=(12, 6))\n",
    "plt.imshow(wc, interpolation='bilinear')\n",
    "plt.axis(\"off\")\n",
    "#plt.show()\n",
    "plt.savefig('wc_ingredient',dpi = 400)\n",
    "#extra = []"
   ]
  },
  {
   "cell_type": "code",
   "execution_count": 1819,
   "metadata": {},
   "outputs": [
    {
     "data": {
      "text/plain": [
       "count    1542.000000\n",
       "mean       33.185473\n",
       "std        48.836342\n",
       "min         0.000000\n",
       "25%        10.000000\n",
       "50%        20.000000\n",
       "75%        30.000000\n",
       "max       490.000000\n",
       "Name: time_minute, dtype: float64"
      ]
     },
     "execution_count": 1819,
     "metadata": {},
     "output_type": "execute_result"
    }
   ],
   "source": [
    "# frequency of ingredients\n",
    "df_time['time_minute'] = df_time.time_minute.apply(int)\n",
    "df_time['time_minute'].describe()"
   ]
  },
  {
   "cell_type": "code",
   "execution_count": 1886,
   "metadata": {},
   "outputs": [
    {
     "data": {
      "image/png": "[encoded data removed]",
      "text/plain": [
       "<Figure size 432x288 with 1 Axes>"
      ]
     },
     "metadata": {},
     "output_type": "display_data"
    }
   ],
   "source": [
    "# df: cook time analysis\n",
    "df['time_cook'].describe()\n",
    "# boxplot\n",
    "#df.boxplot(by='type', column = 'time_cook') #.set_title('cook time by dish type')\n",
    "#df_time.boxplot(by = 'type', column = 'time_minute')\n",
    "plt_tcook_box = sns.boxplot(x=\"type\", y='time_minute', data = df_time, hue = 'step')\n",
    "# plot settings\n",
    "plt.xlabel('dish type')\n",
    "plt.ylabel('cook time (minute)')\n",
    "plt.title('Cook Time by Dish Type')\n",
    "plt.suptitle(\"\")\n",
    "#plt.legend(bbox_to_anchor=(1.05, 1), loc=2, borderaxespad=0.)\n",
    "#plt_tcook_box.legend(loc='center right', bbox_to_anchor=(1.25, 0.5), ncol=1)\n",
    "plt_tcook_box.legend(loc='upper right')\n",
    "plt.savefig('plot_time_boxplot',dpi = 400)"
   ]
  },
  {
   "cell_type": "code",
   "execution_count": 1887,
   "metadata": {},
   "outputs": [
    {
     "data": {
      "image/png": "[encoded data removed]",
      "text/plain": [
       "<Figure size 432x288 with 1 Axes>"
      ]
     },
     "metadata": {},
     "output_type": "display_data"
    }
   ],
   "source": [
    "# violin plot\n",
    "plt_tcook = sns.violinplot(x='type', y='time_minute', hue = 'step', data = df_time, palette='muted', split = True, inner=\"quartile\")\n",
    "# plot settings\n",
    "plt.xlabel('dish type')\n",
    "plt.ylabel('cook time (minute)')\n",
    "plt.title('Cook Time by Dish Type')\n",
    "plt.suptitle(\"\")\n",
    "\n",
    "#plt.legend(title = 'Step', loc=\"upper right\", labels = ['prep', 'cook'])\n",
    "plt.savefig('plot_time_violin',dpi = 400)"
   ]
  },
  {
   "cell_type": "code",
   "execution_count": 1888,
   "metadata": {},
   "outputs": [
    {
     "data": {
      "image/png": "[encoded data removed]",
      "text/plain": [
       "<Figure size 432x288 with 1 Axes>"
      ]
     },
     "metadata": {},
     "output_type": "display_data"
    }
   ],
   "source": [
    "# cook & prep time with less extreme\n",
    "#scatter_df = scatter_df.loc[scatter_df.apply(lambda x: np.abs(x - x.mean()) / x.std() < 3).all(axis=1)]\n",
    "df[['dish', 'type', 'time_cook', 'time_prep']].groupby(type)[['time_cook', 'time_prep']].describe()\n",
    "df_time_center = df_time[df_time['time_minute'].apply(lambda x: np.abs(x-df_time.time_minute.mean())/df_time.time_minute.std() < 2)] # 95% of data\n",
    "\n",
    "plt_tcook_box = sns.boxplot(x=\"type\", y='time_minute', data = df_time_center, hue = 'step')\n",
    "# plot settings\n",
    "plt.xlabel('dish type')\n",
    "plt.ylabel('cook time (minute)')\n",
    "plt.title('Cook Time by Dish Type')\n",
    "plt.suptitle(\"\")\n",
    "plt_tcook_box.legend(loc='upper right')\n",
    "plt.savefig('plot_time_center_boxplot',dpi = 400)"
   ]
  },
  {
   "cell_type": "code",
   "execution_count": 1932,
   "metadata": {},
   "outputs": [
    {
     "name": "stdout",
     "output_type": "stream",
     "text": [
      "0.0384\n"
     ]
    }
   ],
   "source": [
    "# correlation with time & type\n",
    "df.corr()\n",
    "corr_time = round(df.time_cook.corr(df.time_prep),4)\n",
    "print(corr_time)\n",
    "\n",
    "model_cook = ols('time_cook~C(type)', data = df).fit()\n",
    "anova_table_cook = sm.stats.anova_lm(model, typ=2)\n",
    "model_prep = ols('time_prep~C(type)', data = df).fit()\n",
    "anova_table_prep = sm.stats.anova_lm(model, type=2)\n",
    "anova_table_cook.to_csv('anova_table_cook.csv')\n",
    "anova_table_prep.to_csv('anova_table_prep.csv')"
   ]
  },
  {
   "cell_type": "code",
   "execution_count": 1942,
   "metadata": {},
   "outputs": [
    {
     "data": {
      "image/png": "[encoded data removed]",
      "text/plain": [
       "<Figure size 432x288 with 1 Axes>"
      ]
     },
     "metadata": {},
     "output_type": "display_data"
    }
   ],
   "source": [
    "# plot cook time\n",
    "plt.hist(rc['time_cook'], bins = 20, color=\"blue\")\n",
    "plt.xlabel('Time (minute)')\n",
    "plt.ylabel('Counts')\n",
    "plt.title('Cook Time Distribution')\n",
    "plt.savefig('plot_time_cook_histogram', dpi=400)"
   ]
  },
  {
   "cell_type": "code",
   "execution_count": 1943,
   "metadata": {},
   "outputs": [
    {
     "data": {
      "image/png": "[encoded data removed]",
      "text/plain": [
       "<Figure size 432x288 with 1 Axes>"
      ]
     },
     "metadata": {},
     "output_type": "display_data"
    }
   ],
   "source": [
    "# plot prep time\n",
    "plt.hist(rc['time_prep'], bins=20, color=\"red\")\n",
    "plt.xlabel('Time (minute)')\n",
    "plt.ylabel('Counts')\n",
    "plt.title('Prep Time Distribution')\n",
    "plt.savefig('plot_time_prep_histogram', dpi=400)"
   ]
  },
  {
   "cell_type": "code",
   "execution_count": null,
   "metadata": {},
   "outputs": [],
   "source": [
    "# plotly histogram\n",
    "# by type\n"
   ]
  },
  {
   "cell_type": "code",
   "execution_count": 1503,
   "metadata": {},
   "outputs": [],
   "source": [
    "# take the last 2 words of ing\n",
    "#rc['ing'] = rc.ingredients.apply(lambda x: re.sub('\\(.*\\)', '', x))\n",
    "#rc.ing\n",
    "#rc.ing.apply(lambda x: [el for el in x.split() if el not in stopIng])"
   ]
  },
  {
   "cell_type": "code",
   "execution_count": 1018,
   "metadata": {},
   "outputs": [],
   "source": [
    "# food = wordnet.synset('food.n.02')\n",
    "# for i in food.closure(lambda s:s.hyponyms()):\n",
    "#     print(i)"
   ]
  },
  {
   "cell_type": "code",
   "execution_count": 551,
   "metadata": {},
   "outputs": [],
   "source": [
    "# test why wordtokenize did not work on column ingredients\n",
    "# def safe_word_tokenize( x ):\n",
    "#     try:\n",
    "#         return word_tokenize( x )\n",
    "#     except Exception as e:\n",
    "#         print( f\"Error with {x}. Exception given: {e}\" )\n",
    "#         print( \"-\"*25 + \"\\n\" )\n",
    "# rc.ingredients.apply(safe_word_tokenize)"
   ]
  },
  {
   "cell_type": "code",
   "execution_count": 352,
   "metadata": {},
   "outputs": [],
   "source": [
    "# extract time\n",
    "#rc['time_cook'].apply(lambda x: x.split(','))\n",
    "# rc['time_cook'] = rc['time_cook'].str.split(',')\n",
    "# rc['time_prep'] = rc['time_prep'].str.split(',')\n",
    "# rc['ingredients'] = rc.ingredients.str.split(',')\n",
    "# rc['tags'] = rc.tags.str.split(',')\n",
    "#rc.rating_star.str.replace('yyyyy', 5)\n",
    "#rc.rating_star.str.replace('yyyyy', '5')"
   ]
  },
  {
   "cell_type": "code",
   "execution_count": 1259,
   "metadata": {},
   "outputs": [],
   "source": [
    "# old wrong codes\n",
    "#rc['inglst'].apply(lambda x: x if x not in stopIng else '')\n",
    "#rc.inglist.apply(lambda x: re.sub(lambda y: y, lst4), \"\", x)"
   ]
  },
  {
   "cell_type": "code",
   "execution_count": null,
   "metadata": {},
   "outputs": [],
   "source": [
    "# need work code\n",
    "# def remove_season(lst,x):\n",
    "#     for item in lst:\n",
    "#         re.sub(item, \"\", x)\n",
    "# rc.inglst.apply(remove_season, lst4)\n",
    "# blob = TextBlob(\" \".join(rc.inglst.iloc[1]))\n",
    "# print(blob.noun_phrases)"
   ]
  },
  {
   "cell_type": "code",
   "execution_count": null,
   "metadata": {},
   "outputs": [],
   "source": [
    "#df = pd.read_csv('https://s3.amazonaws.com/nycdsabt01/movie_metadata.csv')"
   ]
  },
  {
   "cell_type": "code",
   "execution_count": null,
   "metadata": {},
   "outputs": [],
   "source": [
    "# IDEAS\n",
    "#rc.ingredients.sample(5)\n",
    "# only take the last two words of each , separated words in ingredients\n",
    "#rc.sample(5)"
   ]
  },
  {
   "cell_type": "code",
   "execution_count": null,
   "metadata": {},
   "outputs": [],
   "source": [
    "# reference code\n",
    "#rc.inglst.apply( lambda x: [el for el in x if (el not in stopIng)] )\n",
    "\n",
    "# lines = 'lines is some string of words'\n",
    "# tokenized = nltk.word_tokenize(lines)\n",
    "# nouns = [word for (word, pos) in nltk.pos_tag(tokenized) if(pos[:2] == 'NN')]\n",
    "# nouns = [(word, pos) for (word, pos) in nltk.pos_tag(tokenized)]\n",
    "# nltk.pos_tag(tokenized)"
   ]
  },
  {
   "cell_type": "code",
   "execution_count": null,
   "metadata": {},
   "outputs": [],
   "source": [
    "# parse tags\n",
    "# test = rc.tags.apply(lambda x: [el for el in x if el == 'beef'])\n",
    "# def sort_tag(lst):\n",
    "#     for tag in lst:\n",
    "#         switch(tag:\n",
    "#                beef = 'beef', chicken = 'chicken', vege = 'vegetarian', seafood = 'fish and seafood', pork = pork)\n",
    "#     return main\n",
    "# rc.tags.apply(sort_tag)\n",
    "#rc.inglst.apply( lambda x: [el for el in x if (el not in stopIng)] )"
   ]
  }
 ],
 "metadata": {
  "kernelspec": {
   "display_name": "Python 3",
   "language": "python",
   "name": "python3"
  },
  "language_info": {
   "codemirror_mode": {
    "name": "ipython",
    "version": 3
   },
   "file_extension": ".py",
   "mimetype": "text/x-python",
   "name": "python",
   "nbconvert_exporter": "python",
   "pygments_lexer": "ipython3",
   "version": "3.8.1"
  }
 },
 "nbformat": 4,
 "nbformat_minor": 2
}

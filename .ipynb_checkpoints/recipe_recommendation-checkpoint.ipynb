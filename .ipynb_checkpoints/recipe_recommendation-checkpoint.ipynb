{
 "cells": [
  {
   "cell_type": "code",
   "execution_count": 2,
   "metadata": {},
   "outputs": [],
   "source": [
    "import pandas as pd"
   ]
  },
  {
   "cell_type": "code",
   "execution_count": 4,
   "metadata": {},
   "outputs": [],
   "source": [
    "df = pd.read_csv(\"simply_recipe_datasheet.csv\")"
   ]
  },
  {
   "cell_type": "code",
   "execution_count": 91,
   "metadata": {},
   "outputs": [
    {
     "name": "stdout",
     "output_type": "stream",
     "text": [
      "What type of dish would you like to cook?\n",
      "Choose 1 from: vegetarian, pasta, pork, lamb, seafood, beef, chicken, other, any.\n",
      "seafood\n"
     ]
    }
   ],
   "source": [
    "limit_type = input(\"What type of dish would you like to cook?\\nChoose 1 from: vegetarian, pasta, pork, lamb, seafood, beef, chicken, other, any.\\n\")"
   ]
  },
  {
   "cell_type": "code",
   "execution_count": 92,
   "metadata": {},
   "outputs": [
    {
     "name": "stdout",
     "output_type": "stream",
     "text": [
      "How long would you like to spend preparing your dinner?\n",
      "If this does not matter enter 'any'.\n",
      "Enter max time in minutes.\n",
      "20\n",
      "How long would you like to spend cooking your dinner?\n",
      "If this does not matter enter 'any'.\n",
      "Enter max time in minutes.\n",
      "90\n"
     ]
    }
   ],
   "source": [
    "limit_time_prep = input(\"How long would you like to spend preparing your dinner?\\nIf this does not matter enter 'any'.\\nEnter max time in minutes.\\n\")\n",
    "limit_time_cook = input(\"How long would you like to spend cooking your dinner?\\nIf this does not matter enter 'any'.\\nEnter max time in minutes.\\n\")"
   ]
  },
  {
   "cell_type": "code",
   "execution_count": 43,
   "metadata": {},
   "outputs": [
    {
     "name": "stdout",
     "output_type": "stream",
     "text": [
      "What ingredients do you have?\n",
      "Please enter singular nouns.\n",
      "beef, onion, chili, cheese, pepper\n"
     ]
    }
   ],
   "source": [
    "limit_ingredients = input(\"What ingredients do you have?\\nPlease enter singular nouns.\\n\")"
   ]
  },
  {
   "cell_type": "code",
   "execution_count": 66,
   "metadata": {},
   "outputs": [
    {
     "data": {
      "text/plain": [
       "['beef']"
      ]
     },
     "execution_count": 66,
     "metadata": {},
     "output_type": "execute_result"
    }
   ],
   "source": [
    "# user decide dish type\n",
    "type_lst = ['vegetarian', 'pasta', 'pork', 'lamb', 'seafood', 'beef', 'chicken', 'other', 'any']\n",
    "limit_type = limit_type.lower()\n",
    "if limit_type == 'any':\n",
    "    myType = type_lst[:-1]\n",
    "else:\n",
    "    myType = [limit_type]\n",
    "myType"
   ]
  },
  {
   "cell_type": "code",
   "execution_count": 76,
   "metadata": {},
   "outputs": [
    {
     "name": "stdout",
     "output_type": "stream",
     "text": [
      "20 90\n"
     ]
    }
   ],
   "source": [
    "# user enter cook & prep time limit\n",
    "def parse_time(str_):\n",
    "    str_ = str_.lower()\n",
    "    if str_ == 'any':\n",
    "        str_ = None\n",
    "    else:\n",
    "        str_ = int(str_)\n",
    "    return str_\n",
    "myPrep = parse_time(limit_time_prep)\n",
    "myCook = parse_time(limit_time_cook)\n",
    "print(myPrep, myCook)"
   ]
  },
  {
   "cell_type": "code",
   "execution_count": 97,
   "metadata": {},
   "outputs": [
    {
     "data": {
      "text/plain": [
       "['beef', ' onion', ' chili', ' cheese', ' pepper']"
      ]
     },
     "execution_count": 97,
     "metadata": {},
     "output_type": "execute_result"
    }
   ],
   "source": [
    "limit_ingredients = limit_ingredients.lower()\n",
    "limit_ingredients.split(',')"
   ]
  },
  {
   "cell_type": "code",
   "execution_count": 90,
   "metadata": {},
   "outputs": [
    {
     "data": {
      "text/plain": [
       "(48, 13)"
      ]
     },
     "execution_count": 90,
     "metadata": {},
     "output_type": "execute_result"
    }
   ],
   "source": [
    "rec = df[(df.type.isin(myType)) & (df.time_cook < myCook) & (df.time_prep < myPrep)] "
   ]
  },
  {
   "cell_type": "code",
   "execution_count": 81,
   "metadata": {},
   "outputs": [],
   "source": [
    "#df[df.time_cook < myCook]"
   ]
  }
 ],
 "metadata": {
  "kernelspec": {
   "display_name": "Python 3",
   "language": "python",
   "name": "python3"
  },
  "language_info": {
   "codemirror_mode": {
    "name": "ipython",
    "version": 3
   },
   "file_extension": ".py",
   "mimetype": "text/x-python",
   "name": "python",
   "nbconvert_exporter": "python",
   "pygments_lexer": "ipython3",
   "version": "3.8.1"
  }
 },
 "nbformat": 4,
 "nbformat_minor": 2
}

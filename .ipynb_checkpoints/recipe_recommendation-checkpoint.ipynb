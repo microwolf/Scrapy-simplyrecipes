{
 "cells": [
  {
   "cell_type": "code",
   "execution_count": 2,
   "metadata": {},
   "outputs": [],
   "source": [
    "import pandas as pd"
   ]
  },
  {
   "cell_type": "code",
   "execution_count": 4,
   "metadata": {},
   "outputs": [],
   "source": [
    "df = pd.read_csv(\"simply_recipe_datasheet.csv\")"
   ]
  },
  {
   "cell_type": "code",
   "execution_count": 27,
   "metadata": {},
   "outputs": [
    {
     "name": "stdout",
     "output_type": "stream",
     "text": [
      "What type of dish would you like to cook?\n",
      "Choose from: vegetarian, pasta, pork, lamb, seafood, beef, chicken, other, any.LAMB\n"
     ]
    }
   ],
   "source": [
    "limit_type = input(\"What type of dish would you like to cook?\\nChoose from: vegetarian, pasta, pork, lamb, seafood, beef, chicken, other, any.\")"
   ]
  },
  {
   "cell_type": "code",
   "execution_count": 28,
   "metadata": {},
   "outputs": [
    {
     "data": {
      "text/plain": [
       "'lamb'"
      ]
     },
     "execution_count": 28,
     "metadata": {},
     "output_type": "execute_result"
    }
   ],
   "source": [
    "type_lst = ['vegetarian', 'pasta', 'pork', 'lamb', 'seafood', 'beef', 'chicken', 'other', 'any']\n",
    "limit_type = limit_type.lower()\n",
    "if limit_type == 'any':\n",
    "    myType = type_lst[:-1]\n",
    "else:\n",
    "    myType = limit_type"
   ]
  },
  {
   "cell_type": "code",
   "execution_count": 41,
   "metadata": {},
   "outputs": [
    {
     "name": "stdout",
     "output_type": "stream",
     "text": [
      "How long would you like to spend preparing your dinner?\n",
      "Enter max time in minutes.\n",
      "If preparing time does not matter enter 'any'.\n",
      "90\n",
      "How long would you like to wait for your dinner to cook?\n",
      "Enter max time in minutes.\n",
      "If preparing time does not matter enter 'any'.\n",
      "120\n"
     ]
    }
   ],
   "source": [
    "limit_time_prep = input(\"How long would you like to spend preparing your dinner?\\nEnter max time in minutes.\\nIf preparing time does not matter enter 'any'.\\n\")\n",
    "limit_time_cook = input(\"How long would you like to wait for your dinner to cook?\\nEnter max time in minutes.\\nIf preparing time does not matter enter 'any'.\\n\")"
   ]
  },
  {
   "cell_type": "code",
   "execution_count": 42,
   "metadata": {},
   "outputs": [
    {
     "data": {
      "text/plain": [
       "120"
      ]
     },
     "execution_count": 42,
     "metadata": {},
     "output_type": "execute_result"
    }
   ],
   "source": [
    "def parse_time(str_):\n",
    "    str_ = str_.lower()\n",
    "    if str_ == 'any':\n",
    "        str_ = None\n",
    "    else:\n",
    "        str_ = int(str_)\n",
    "    return str_\n",
    "myPrep = parse_time(limit_time_prep)\n",
    "myCook = parse_time(limit_time_cook)"
   ]
  },
  {
   "cell_type": "code",
   "execution_count": null,
   "metadata": {},
   "outputs": [],
   "source": []
  }
 ],
 "metadata": {
  "kernelspec": {
   "display_name": "Python 3",
   "language": "python",
   "name": "python3"
  },
  "language_info": {
   "codemirror_mode": {
    "name": "ipython",
    "version": 3
   },
   "file_extension": ".py",
   "mimetype": "text/x-python",
   "name": "python",
   "nbconvert_exporter": "python",
   "pygments_lexer": "ipython3",
   "version": "3.8.1"
  }
 },
 "nbformat": 4,
 "nbformat_minor": 2
}

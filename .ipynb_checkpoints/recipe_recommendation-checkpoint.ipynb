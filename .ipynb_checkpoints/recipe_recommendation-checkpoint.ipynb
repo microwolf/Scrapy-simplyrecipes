{
 "cells": [
  {
   "cell_type": "code",
   "execution_count": 218,
   "metadata": {},
   "outputs": [],
   "source": [
    "import pandas as pd\n",
    "import re\n",
    "import json"
   ]
  },
  {
   "cell_type": "code",
   "execution_count": 215,
   "metadata": {},
   "outputs": [],
   "source": [
    "#dfcsv = pd.read_csv(\"simply_recipe_datasheet.csv\")"
   ]
  },
  {
   "cell_type": "code",
   "execution_count": 223,
   "metadata": {},
   "outputs": [],
   "source": [
    "with open('simply_recipe_datasheet.json', 'r' ) as fin:\n",
    "    df = pd.DataFrame( json.load( fin ) )"
   ]
  },
  {
   "cell_type": "code",
   "execution_count": 224,
   "metadata": {},
   "outputs": [
    {
     "data": {
      "text/plain": [
       "list"
      ]
     },
     "execution_count": 224,
     "metadata": {},
     "output_type": "execute_result"
    }
   ],
   "source": [
    "type(dfj.inglst.iloc[0])"
   ]
  },
  {
   "cell_type": "code",
   "execution_count": 148,
   "metadata": {},
   "outputs": [
    {
     "name": "stdout",
     "output_type": "stream",
     "text": [
      "What type of dish would you like to cook?\n",
      "Choose 1 from: vegetarian, pasta, pork, lamb, seafood, beef, chicken, other, any.\n",
      "beef\n"
     ]
    }
   ],
   "source": [
    "limit_type = input(\"What type of dish would you like to cook?\\nChoose 1 from: vegetarian, pasta, pork, lamb, seafood, beef, chicken, other, any.\\n\")"
   ]
  },
  {
   "cell_type": "code",
   "execution_count": 317,
   "metadata": {},
   "outputs": [
    {
     "name": "stdout",
     "output_type": "stream",
     "text": [
      "How long would you like to spend preparing your dinner?\n",
      "If this does not matter enter 'any'.\n",
      "Enter max time in minutes.\n",
      "any\n",
      "How long would you like to spend cooking your dinner?\n",
      "If this does not matter enter 'any'.\n",
      "Enter max time in minutes.\n",
      "any\n"
     ]
    }
   ],
   "source": [
    "limit_time_prep = input(\"How long would you like to spend preparing your dinner?\\nIf this does not matter enter 'any'.\\nEnter max time in minutes.\\n\")\n",
    "limit_time_cook = input(\"How long would you like to spend cooking your dinner?\\nIf this does not matter enter 'any'.\\nEnter max time in minutes.\\n\")"
   ]
  },
  {
   "cell_type": "code",
   "execution_count": 318,
   "metadata": {},
   "outputs": [
    {
     "name": "stdout",
     "output_type": "stream",
     "text": [
      "What ingredients do you have?\n",
      "Please enter singular nouns.\n",
      "To skip, enter 'none'.\n",
      "beef, onion, chili\n"
     ]
    }
   ],
   "source": [
    "limit_ingredients = input(\"What ingredients do you have?\\nPlease enter singular nouns.\\nTo skip, enter 'none'.\\n\")"
   ]
  },
  {
   "cell_type": "code",
   "execution_count": null,
   "metadata": {},
   "outputs": [],
   "source": [
    "########## Please do not modify the cells below ##########"
   ]
  },
  {
   "cell_type": "code",
   "execution_count": 319,
   "metadata": {},
   "outputs": [
    {
     "data": {
      "text/plain": [
       "['beef']"
      ]
     },
     "execution_count": 319,
     "metadata": {},
     "output_type": "execute_result"
    }
   ],
   "source": [
    "# user decide dish type\n",
    "type_lst = ['vegetarian', 'pasta', 'pork', 'lamb', 'seafood', 'beef', 'chicken', 'other', 'any']\n",
    "limit_type = limit_type.lower()\n",
    "\n",
    "if limit_type == 'any':\n",
    "    myType = type_lst[:-1]\n",
    "else:\n",
    "    myType = limit_type.split(',')\n",
    "myType = list(map(lambda x: x.strip(), myType))\n",
    "myType"
   ]
  },
  {
   "cell_type": "code",
   "execution_count": 320,
   "metadata": {},
   "outputs": [
    {
     "name": "stdout",
     "output_type": "stream",
     "text": [
      "999 999\n"
     ]
    }
   ],
   "source": [
    "# user enter cook & prep time limit\n",
    "def parse_time(str_):\n",
    "    str_ = str_.lower()\n",
    "    if str_ == 'any':\n",
    "        str_ = 999\n",
    "    else:\n",
    "        str_ = int(str_)\n",
    "    return str_\n",
    "myPrep = parse_time(limit_time_prep)\n",
    "myCook = parse_time(limit_time_cook)\n",
    "print(myPrep, myCook)"
   ]
  },
  {
   "cell_type": "code",
   "execution_count": 321,
   "metadata": {},
   "outputs": [
    {
     "data": {
      "text/plain": [
       "['beef', 'onion', 'chili']"
      ]
     },
     "execution_count": 321,
     "metadata": {},
     "output_type": "execute_result"
    }
   ],
   "source": [
    "# user enter ingredients\n",
    "test = ['beef', 'onion', 'chili']\n",
    "myIng = limit_ingredients.split(',')\n",
    "myIng = list(map(lambda x: x.lower(), myIng))\n",
    "myIng = list(map(lambda x: x.strip(), myIng))\n",
    "myIng"
   ]
  },
  {
   "cell_type": "code",
   "execution_count": 322,
   "metadata": {},
   "outputs": [],
   "source": [
    "# filter by dish type and prep & cook time\n",
    "rec = df[(df.type.isin(myType)) & (df.time_cook < myCook) & (df.time_prep < myPrep)] "
   ]
  },
  {
   "cell_type": "code",
   "execution_count": 334,
   "metadata": {},
   "outputs": [],
   "source": [
    "# user choose ingredients\n",
    "def intersection(lst1, lst2):\n",
    "    lst3 = [value for value in lst1 if value in lst2] \n",
    "    return lst3\n",
    "\n",
    "def match_ing(rec, myIng):\n",
    "    match = []\n",
    "    if myIng == ['none']:\n",
    "        return \"No recipes meets all your criteria, sorry!\"\n",
    "    else:\n",
    "        for i in range(rec.shape[0]):\n",
    "            common = intersection(rec.inglst.iloc[i], myIng)\n",
    "            ing_num = len(rec.inglst.iloc[i])\n",
    "            if len(common) >= ing_num/2:\n",
    "\n",
    "                match.append(i)\n",
    "        final = rec.iloc[match,]    \n",
    "        return(final)"
   ]
  },
  {
   "cell_type": "code",
   "execution_count": null,
   "metadata": {},
   "outputs": [],
   "source": [
    "########## Recipes That Meets Your Criteria are Listed below ##########"
   ]
  },
  {
   "cell_type": "code",
   "execution_count": 333,
   "metadata": {},
   "outputs": [
    {
     "data": {
      "text/html": [
       "<div>\n",
       "<style scoped>\n",
       "    .dataframe tbody tr th:only-of-type {\n",
       "        vertical-align: middle;\n",
       "    }\n",
       "\n",
       "    .dataframe tbody tr th {\n",
       "        vertical-align: top;\n",
       "    }\n",
       "\n",
       "    .dataframe thead th {\n",
       "        text-align: right;\n",
       "    }\n",
       "</style>\n",
       "<table border=\"1\" class=\"dataframe\">\n",
       "  <thead>\n",
       "    <tr style=\"text-align: right;\">\n",
       "      <th></th>\n",
       "      <th>author</th>\n",
       "      <th>dish</th>\n",
       "      <th>type</th>\n",
       "      <th>inglst</th>\n",
       "      <th>time_prep</th>\n",
       "      <th>time_cook</th>\n",
       "      <th>tags</th>\n",
       "      <th>ingredients</th>\n",
       "      <th>servings</th>\n",
       "      <th>rating_star</th>\n",
       "      <th>rating_num</th>\n",
       "      <th>meta_description</th>\n",
       "    </tr>\n",
       "  </thead>\n",
       "  <tbody>\n",
       "    <tr>\n",
       "      <th>211</th>\n",
       "      <td>Elise Bauer</td>\n",
       "      <td>Beef Brisket Pot Roast</td>\n",
       "      <td>beef</td>\n",
       "      <td>[beef, brisket, point, onion, beef, carrot]</td>\n",
       "      <td>35</td>\n",
       "      <td>255</td>\n",
       "      <td>[video, 1-pot, comfort food, brisket, pot roast]</td>\n",
       "      <td>4 to 5 pound (about 2 kg) beef brisket, flat c...</td>\n",
       "      <td>Serves 8-12</td>\n",
       "      <td>5</td>\n",
       "      <td>12.0</td>\n",
       "      <td>Beef Brisket cooked as a pot roast couldn't be...</td>\n",
       "    </tr>\n",
       "    <tr>\n",
       "      <th>212</th>\n",
       "      <td>Elise Bauer</td>\n",
       "      <td>Easy Beef Brisket</td>\n",
       "      <td>beef</td>\n",
       "      <td>[brisket, beef]</td>\n",
       "      <td>10</td>\n",
       "      <td>180</td>\n",
       "      <td>[video, passover, beef, brisket]</td>\n",
       "      <td>3 to 4 pounds of a brisket cut of beef,3/4 cup...</td>\n",
       "      <td>Serves 8</td>\n",
       "      <td>5</td>\n",
       "      <td>16.0</td>\n",
       "      <td>Easy 3-ingredient Beef Brisket! Here's how to ...</td>\n",
       "    </tr>\n",
       "  </tbody>\n",
       "</table>\n",
       "</div>"
      ],
      "text/plain": [
       "          author                    dish  type  \\\n",
       "211  Elise Bauer  Beef Brisket Pot Roast  beef   \n",
       "212  Elise Bauer       Easy Beef Brisket  beef   \n",
       "\n",
       "                                          inglst  time_prep  time_cook  \\\n",
       "211  [beef, brisket, point, onion, beef, carrot]         35        255   \n",
       "212                              [brisket, beef]         10        180   \n",
       "\n",
       "                                                 tags  \\\n",
       "211  [video, 1-pot, comfort food, brisket, pot roast]   \n",
       "212                  [video, passover, beef, brisket]   \n",
       "\n",
       "                                           ingredients     servings  \\\n",
       "211  4 to 5 pound (about 2 kg) beef brisket, flat c...  Serves 8-12   \n",
       "212  3 to 4 pounds of a brisket cut of beef,3/4 cup...     Serves 8   \n",
       "\n",
       "    rating_star  rating_num                                   meta_description  \n",
       "211           5        12.0  Beef Brisket cooked as a pot roast couldn't be...  \n",
       "212           5        16.0  Easy 3-ingredient Beef Brisket! Here's how to ...  "
      ]
     },
     "execution_count": 333,
     "metadata": {},
     "output_type": "execute_result"
    }
   ],
   "source": [
    "# recommendation of recipes for user\n",
    "match_ing(rec, myIng)"
   ]
  }
 ],
 "metadata": {
  "kernelspec": {
   "display_name": "Python 3",
   "language": "python",
   "name": "python3"
  },
  "language_info": {
   "codemirror_mode": {
    "name": "ipython",
    "version": 3
   },
   "file_extension": ".py",
   "mimetype": "text/x-python",
   "name": "python",
   "nbconvert_exporter": "python",
   "pygments_lexer": "ipython3",
   "version": "3.8.1"
  }
 },
 "nbformat": 4,
 "nbformat_minor": 2
}

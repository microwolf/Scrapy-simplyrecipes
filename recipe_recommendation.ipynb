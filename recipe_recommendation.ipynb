{
 "cells": [
  {
   "cell_type": "code",
   "execution_count": 88,
   "metadata": {},
   "outputs": [],
   "source": [
    "import pandas as pd\n",
    "import re\n",
    "import json"
   ]
  },
  {
   "cell_type": "code",
   "execution_count": 89,
   "metadata": {},
   "outputs": [],
   "source": [
    "#dfcsv = pd.read_csv(\"simply_recipe_datasheet.csv\")"
   ]
  },
  {
   "cell_type": "code",
   "execution_count": 101,
   "metadata": {},
   "outputs": [],
   "source": [
    "with open('simply_recipe_datasheet.json', 'r' ) as fin:\n",
    "    df = pd.DataFrame( json.load( fin ) )"
   ]
  },
  {
   "cell_type": "code",
   "execution_count": 102,
   "metadata": {},
   "outputs": [
    {
     "name": "stdout",
     "output_type": "stream",
     "text": [
      "Question 1:\n",
      "What type of dish would you like to cook?\n",
      "Choose 1 from: vegetarian, pasta, pork, lamb, seafood, beef, chicken, other, any.\n",
      "beef, seafood\n"
     ]
    }
   ],
   "source": [
    "limit_type = input(\"Question 1:\\nWhat type of dish would you like to cook?\\n\\\n",
    "Choose 1 from: vegetarian, pasta, pork, lamb, seafood, beef, chicken, other, any.\\n\")"
   ]
  },
  {
   "cell_type": "code",
   "execution_count": 103,
   "metadata": {},
   "outputs": [
    {
     "name": "stdout",
     "output_type": "stream",
     "text": [
      "Question 2:\n",
      "How long would you like to spend preparing your dinner?\n",
      "If this does not matter enter 'any'.\n",
      "Enter max time in minutes.\n",
      "20\n",
      "How long would you like to spend cooking your dinner?\n",
      "If this does not matter enter 'any'.\n",
      "Enter max time in minutes.\n",
      "60\n"
     ]
    }
   ],
   "source": [
    "limit_time_prep = input(\"Question 2:\\nHow long would you like to spend preparing your dinner?\\n\\\n",
    "If this does not matter enter 'any'.\\nEnter max time in minutes.\\n\")\n",
    "limit_time_cook = input(\"How long would you like to spend cooking your dinner?\\n\\\n",
    "If this does not matter enter 'any'.\\nEnter max time in minutes.\\n\")"
   ]
  },
  {
   "cell_type": "code",
   "execution_count": 104,
   "metadata": {},
   "outputs": [
    {
     "name": "stdout",
     "output_type": "stream",
     "text": [
      "Question 3:\n",
      "What ingredients do you have?\n",
      "Please enter singular nouns.\n",
      "Have no ingredients, enter 'none'.\n",
      "To skip, enter 'all'.\n",
      "beef, salmon, lemon, onion, pepper, milk, cheese\n"
     ]
    }
   ],
   "source": [
    "limit_ingredients = input(\"Question 3:\\nWhat ingredients do you have?\\nPlease enter singular nouns.\\n\\\n",
    "Have no ingredients, enter 'none'.\\nTo skip, enter 'all'.\\n\")"
   ]
  },
  {
   "cell_type": "code",
   "execution_count": 105,
   "metadata": {},
   "outputs": [],
   "source": [
    "########## Please do not modify the cells below ##########"
   ]
  },
  {
   "cell_type": "code",
   "execution_count": 106,
   "metadata": {},
   "outputs": [
    {
     "data": {
      "text/plain": [
       "['beef', 'seafood']"
      ]
     },
     "execution_count": 106,
     "metadata": {},
     "output_type": "execute_result"
    }
   ],
   "source": [
    "# user decide dish type\n",
    "type_lst = ['vegetarian', 'pasta', 'pork', 'lamb', 'seafood', 'beef', 'chicken', 'other', 'any']\n",
    "limit_type = limit_type.lower()\n",
    "\n",
    "if limit_type == 'any':\n",
    "    myType = type_lst[:-1]\n",
    "else:\n",
    "    myType = limit_type.split(',')\n",
    "myType = list(map(lambda x: x.strip(), myType))\n",
    "myType"
   ]
  },
  {
   "cell_type": "code",
   "execution_count": 107,
   "metadata": {},
   "outputs": [
    {
     "name": "stdout",
     "output_type": "stream",
     "text": [
      "20 60\n"
     ]
    }
   ],
   "source": [
    "# user enter cook & prep time limit\n",
    "def parse_time(str_):\n",
    "    str_ = str_.lower()\n",
    "    if str_ == 'any':\n",
    "        str_ = 999\n",
    "    else:\n",
    "        str_ = int(str_)\n",
    "    return str_\n",
    "myPrep = parse_time(limit_time_prep)\n",
    "myCook = parse_time(limit_time_cook)\n",
    "print(myPrep, myCook)"
   ]
  },
  {
   "cell_type": "code",
   "execution_count": 108,
   "metadata": {},
   "outputs": [
    {
     "data": {
      "text/plain": [
       "['beef', 'salmon', 'lemon', 'onion', 'pepper', 'milk', 'cheese']"
      ]
     },
     "execution_count": 108,
     "metadata": {},
     "output_type": "execute_result"
    }
   ],
   "source": [
    "# user enter ingredients\n",
    "test = ['beef', 'onion', 'chili']\n",
    "myIng = limit_ingredients.split(',')\n",
    "myIng = list(map(lambda x: x.lower(), myIng))\n",
    "myIng = list(map(lambda x: x.strip(), myIng))\n",
    "myIng"
   ]
  },
  {
   "cell_type": "code",
   "execution_count": 109,
   "metadata": {},
   "outputs": [],
   "source": [
    "# filter by dish type and prep & cook time\n",
    "rec = df[(df.type.isin(myType)) & (df.time_cook < myCook) & (df.time_prep < myPrep)] "
   ]
  },
  {
   "cell_type": "code",
   "execution_count": 110,
   "metadata": {},
   "outputs": [],
   "source": [
    "# user choose ingredients\n",
    "def intersection(lst1, lst2):\n",
    "    lst3 = [value for value in lst1 if value in lst2] \n",
    "    return lst3\n",
    "\n",
    "def match_ing(rec, myIng):\n",
    "    match = []\n",
    "    if myIng == ['none']:\n",
    "        return \"No recipes meets all your criteria, sorry!\"\n",
    "    elif myIng == ['all']:\n",
    "        return rec\n",
    "    else:    \n",
    "        for i in range(rec.shape[0]):\n",
    "            common = intersection(rec.inglst.iloc[i], myIng)\n",
    "            ing_num = len(rec.inglst.iloc[i])\n",
    "            if len(common) >= ing_num/2:\n",
    "\n",
    "                match.append(i)\n",
    "        final = rec.iloc[match,]    \n",
    "        return(final)"
   ]
  },
  {
   "cell_type": "code",
   "execution_count": 111,
   "metadata": {},
   "outputs": [],
   "source": [
    "########## Recipes That Meets Your Criteria are Listed below ##########"
   ]
  },
  {
   "cell_type": "code",
   "execution_count": 112,
   "metadata": {},
   "outputs": [
    {
     "name": "stdout",
     "output_type": "stream",
     "text": [
      "2\n"
     ]
    },
    {
     "data": {
      "text/html": [
       "<div>\n",
       "<style scoped>\n",
       "    .dataframe tbody tr th:only-of-type {\n",
       "        vertical-align: middle;\n",
       "    }\n",
       "\n",
       "    .dataframe tbody tr th {\n",
       "        vertical-align: top;\n",
       "    }\n",
       "\n",
       "    .dataframe thead th {\n",
       "        text-align: right;\n",
       "    }\n",
       "</style>\n",
       "<table border=\"1\" class=\"dataframe\">\n",
       "  <thead>\n",
       "    <tr style=\"text-align: right;\">\n",
       "      <th></th>\n",
       "      <th>author</th>\n",
       "      <th>dish</th>\n",
       "      <th>type</th>\n",
       "      <th>inglst</th>\n",
       "      <th>time_prep</th>\n",
       "      <th>time_cook</th>\n",
       "      <th>tags</th>\n",
       "      <th>ingredients</th>\n",
       "      <th>servings</th>\n",
       "      <th>rating_star</th>\n",
       "      <th>rating_num</th>\n",
       "      <th>meta_description</th>\n",
       "    </tr>\n",
       "  </thead>\n",
       "  <tbody>\n",
       "    <tr>\n",
       "      <th>433</th>\n",
       "      <td>Elise Bauer</td>\n",
       "      <td>Grilled Salmon with Dill Butter</td>\n",
       "      <td>seafood</td>\n",
       "      <td>[portion, salmon, grill, lemon]</td>\n",
       "      <td>15</td>\n",
       "      <td>10</td>\n",
       "      <td>[grill, low carb, paleo, salmon]</td>\n",
       "      <td>4 6-ounce portions of salmon, preferably skin-...</td>\n",
       "      <td>Serves 4</td>\n",
       "      <td>5</td>\n",
       "      <td>5.0</td>\n",
       "      <td>Simple and easy, grilled salmon with dill butt...</td>\n",
       "    </tr>\n",
       "    <tr>\n",
       "      <th>530</th>\n",
       "      <td>Elise Bauer</td>\n",
       "      <td>Oven-Roasted Salmon, Asparagus and New Potatoes</td>\n",
       "      <td>seafood</td>\n",
       "      <td>[potato, asparagus, strip, lemon, pepper, salm...</td>\n",
       "      <td>10</td>\n",
       "      <td>32</td>\n",
       "      <td>[dinner, quick and easy, gluten-free, salmon]</td>\n",
       "      <td>1 pound (450 g) small new potatoes, scrubbed c...</td>\n",
       "      <td>Serves 4</td>\n",
       "      <td>5</td>\n",
       "      <td>4.0</td>\n",
       "      <td>Oven Roasted Salmon, Asparagus &amp; New Potatoes ...</td>\n",
       "    </tr>\n",
       "  </tbody>\n",
       "</table>\n",
       "</div>"
      ],
      "text/plain": [
       "          author                                             dish     type  \\\n",
       "433  Elise Bauer                  Grilled Salmon with Dill Butter  seafood   \n",
       "530  Elise Bauer  Oven-Roasted Salmon, Asparagus and New Potatoes  seafood   \n",
       "\n",
       "                                                inglst  time_prep  time_cook  \\\n",
       "433                    [portion, salmon, grill, lemon]         15         10   \n",
       "530  [potato, asparagus, strip, lemon, pepper, salm...         10         32   \n",
       "\n",
       "                                              tags  \\\n",
       "433               [grill, low carb, paleo, salmon]   \n",
       "530  [dinner, quick and easy, gluten-free, salmon]   \n",
       "\n",
       "                                           ingredients  servings rating_star  \\\n",
       "433  4 6-ounce portions of salmon, preferably skin-...  Serves 4           5   \n",
       "530  1 pound (450 g) small new potatoes, scrubbed c...  Serves 4           5   \n",
       "\n",
       "     rating_num                                   meta_description  \n",
       "433         5.0  Simple and easy, grilled salmon with dill butt...  \n",
       "530         4.0  Oven Roasted Salmon, Asparagus & New Potatoes ...  "
      ]
     },
     "execution_count": 112,
     "metadata": {},
     "output_type": "execute_result"
    }
   ],
   "source": [
    "# recommendation of recipes for user\n",
    "result = match_ing(rec, myIng)\n",
    "print(result.shape[0])\n",
    "result"
   ]
  },
  {
   "cell_type": "code",
   "execution_count": null,
   "metadata": {},
   "outputs": [],
   "source": []
  }
 ],
 "metadata": {
  "kernelspec": {
   "display_name": "Python 3",
   "language": "python",
   "name": "python3"
  },
  "language_info": {
   "codemirror_mode": {
    "name": "ipython",
    "version": 3
   },
   "file_extension": ".py",
   "mimetype": "text/x-python",
   "name": "python",
   "nbconvert_exporter": "python",
   "pygments_lexer": "ipython3",
   "version": "3.8.1"
  }
 },
 "nbformat": 4,
 "nbformat_minor": 2
}
